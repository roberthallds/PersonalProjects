{
 "cells": [
  {
   "cell_type": "markdown",
   "metadata": {},
   "source": [
    "## Cleaning US Census Data using Python\n",
    "From my Codecademy course on data cleaning with Python\n",
    "\n",
    "Robert Hall 12.20.2023"
   ]
  },
  {
   "cell_type": "code",
   "execution_count": 41,
   "metadata": {},
   "outputs": [],
   "source": [
    "import pandas as pd\n",
    "import matplotlib.pyplot as plt\n",
    "import openpyxl as opx\n",
    "from openpyxl.utils.dataframe import dataframe_to_rows as dtr\n",
    "import glob"
   ]
  },
  {
   "cell_type": "code",
   "execution_count": 24,
   "metadata": {},
   "outputs": [],
   "source": [
    "# load all 'states*' files into one series\n",
    "\n",
    "files = glob.glob('states*.csv')"
   ]
  },
  {
   "cell_type": "code",
   "execution_count": 25,
   "metadata": {},
   "outputs": [],
   "source": [
    "# convert data from all 10 files into\n",
    "# dataframes, then aggregate all dataframes\n",
    "# to one 'us_census' dataframe\n",
    "\n",
    "states_list = []\n",
    "for f in files:\n",
    "  data = pd.read_csv(f)\n",
    "  states_list.append(data)\n",
    "us_census = pd.concat(states_list)"
   ]
  },
  {
   "cell_type": "code",
   "execution_count": 26,
   "metadata": {},
   "outputs": [
    {
     "name": "stdout",
     "output_type": "stream",
     "text": [
      "   Unnamed: 0       State  TotalPop             Hispanic                White  \\\n",
      "0           0     Alabama   4830620  3.7516156462584975%     61.878656462585%   \n",
      "1           1      Alaska    733375   5.909580838323351%  60.910179640718574%   \n",
      "2           2     Arizona   6641928  29.565921052631502%  57.120000000000026%   \n",
      "3           3    Arkansas   2958208   6.215474452554738%   71.13781021897813%   \n",
      "4           4  California  38421464  37.291874687968054%   40.21578881677474%   \n",
      "\n",
      "                 Black                Native                Asian  \\\n",
      "0   31.25297619047618%   0.4532312925170065%  1.0502551020408146%   \n",
      "1  2.8485029940119775%    16.39101796407186%   5.450299401197604%   \n",
      "2  3.8509868421052658%     4.35506578947368%   2.876578947368419%   \n",
      "3  18.968759124087573%   0.5229197080291965%  1.1423357664233578%   \n",
      "4   5.677396405391911%  0.40529206190713685%  13.052234148776776%   \n",
      "\n",
      "                Pacific              Income            GenderPop  \n",
      "0  0.03435374149659865%  $43296.35860306644    2341093M_2489527F  \n",
      "1   1.0586826347305378%  $70354.74390243902      384160M_349215F  \n",
      "2  0.16763157894736833%  $54207.82095490716    3299088M_3342840F  \n",
      "3  0.14686131386861315%  $41935.63396778917    1451913M_1506295F  \n",
      "4  0.35141038442336353%  $67264.78230266465  19087135M_19334329F  \n"
     ]
    }
   ],
   "source": [
    "# print first 5 rows of us_census dataframe\n",
    "# to verify the aggregation worked\n",
    "\n",
    "print(us_census.head())"
   ]
  },
  {
   "cell_type": "code",
   "execution_count": 27,
   "metadata": {},
   "outputs": [
    {
     "name": "stdout",
     "output_type": "stream",
     "text": [
      "Unnamed: 0     int64\n",
      "State         object\n",
      "TotalPop       int64\n",
      "Hispanic      object\n",
      "White         object\n",
      "Black         object\n",
      "Native        object\n",
      "Asian         object\n",
      "Pacific       object\n",
      "Income        object\n",
      "GenderPop     object\n",
      "dtype: object\n"
     ]
    }
   ],
   "source": [
    "# print datatypes to verify which ones are objects and\n",
    "# which need to be converted\n",
    "\n",
    "print(us_census.dtypes)"
   ]
  },
  {
   "cell_type": "code",
   "execution_count": 28,
   "metadata": {},
   "outputs": [],
   "source": [
    "# convert income datatype from object to numeric\n",
    "# and splicing out the '$' character from before\n",
    "# each value to make the data calculable.\n",
    "\n",
    "us_census.Income = us_census['Income'].replace('[\\$,]', '', regex=True)\n",
    "us_census.Income = pd.to_numeric(us_census.Income)"
   ]
  },
  {
   "cell_type": "code",
   "execution_count": 29,
   "metadata": {},
   "outputs": [
    {
     "name": "stdout",
     "output_type": "stream",
     "text": [
      "0      2341093_2489527\n",
      "1        384160_349215\n",
      "2      3299088_3342840\n",
      "3      1451913_1506295\n",
      "4    19087135_19334329\n",
      "Name: GenderPop, dtype: object\n"
     ]
    }
   ],
   "source": [
    "# split 'GenderPop' into two different columns -- men and \n",
    "# women -- which are populations of each gender of each \n",
    "# US state instance.\n",
    "\n",
    "# take out the 'M' and 'F' denotations between the male and female\n",
    "# populations\n",
    "us_census.GenderPop = us_census.GenderPop.str.replace('[M,F]', '', regex=True)\n",
    "\n",
    "# print first 5 rows of GenderPop to make sure it went accordingly\n",
    "print(us_census.GenderPop.head())"
   ]
  },
  {
   "cell_type": "code",
   "execution_count": 30,
   "metadata": {},
   "outputs": [
    {
     "name": "stdout",
     "output_type": "stream",
     "text": [
      "0      [2341093, 2489527]\n",
      "1        [384160, 349215]\n",
      "2      [3299088, 3342840]\n",
      "3      [1451913, 1506295]\n",
      "4    [19087135, 19334329]\n",
      "Name: GenderPop, dtype: object\n"
     ]
    }
   ],
   "source": [
    "# split each instance of GenderPop between the '_' character dividing\n",
    "# male and female populations, into lists of [0=male, 1=female]\n",
    "gender_split = us_census.GenderPop.str.split('_')\n",
    "\n",
    "# print first 5 rows of gender_split to make sure it went accordingly\n",
    "print(gender_split.head()) "
   ]
  },
  {
   "cell_type": "code",
   "execution_count": 31,
   "metadata": {},
   "outputs": [],
   "source": [
    "# parse each instance of GenderSplit into new columns \"Men\" with male\n",
    "# populations (where gender_split[0]) and \"Women\" with female populations\n",
    "# (where gender_split[1])\n",
    "us_census[\"Men\"] = gender_split.str.get(0)\n",
    "us_census[\"Women\"] = gender_split.str.get(1)"
   ]
  },
  {
   "cell_type": "code",
   "execution_count": 32,
   "metadata": {},
   "outputs": [],
   "source": [
    "# convert these columns to numeric datatypes from objects\n",
    "us_census.Men = pd.to_numeric(us_census.Men)\n",
    "us_census.Women = pd.to_numeric(us_census.Women)"
   ]
  },
  {
   "cell_type": "code",
   "execution_count": 33,
   "metadata": {},
   "outputs": [
    {
     "name": "stdout",
     "output_type": "stream",
     "text": [
      "0     2341093\n",
      "1      384160\n",
      "2     3299088\n",
      "3     1451913\n",
      "4    19087135\n",
      "Name: Men, dtype: int64\n"
     ]
    }
   ],
   "source": [
    "# print first 5 rows of \"Men\" column to verify that all went\n",
    "# smoothly\n",
    "\n",
    "print(us_census.Men.head())"
   ]
  },
  {
   "cell_type": "code",
   "execution_count": 34,
   "metadata": {},
   "outputs": [
    {
     "name": "stdout",
     "output_type": "stream",
     "text": [
      "0     2489527.0\n",
      "1      349215.0\n",
      "2     3342840.0\n",
      "3     1506295.0\n",
      "4    19334329.0\n",
      "Name: Women, dtype: float64\n"
     ]
    }
   ],
   "source": [
    "# print first 5 rows of \"Women\" column to verify that all went\n",
    "# smoothly\n",
    "\n",
    "\n",
    "print(us_census.Women.head())"
   ]
  },
  {
   "cell_type": "code",
   "execution_count": 36,
   "metadata": {},
   "outputs": [],
   "source": [
    "# drop the now- redundant and useless GenderPop column\n",
    "\n",
    "us_census = us_census.drop('GenderPop', axis=1)"
   ]
  },
  {
   "cell_type": "code",
   "execution_count": 37,
   "metadata": {},
   "outputs": [],
   "source": [
    "# fill in null (missing) values in the \"Women\" column with\n",
    "# the differences between the total population and the male\n",
    "# population of each state\n",
    "\n",
    "us_census.Women = us_census.Women.fillna(value=(us_census.TotalPop - us_census.Men))"
   ]
  },
  {
   "cell_type": "code",
   "execution_count": 44,
   "metadata": {},
   "outputs": [],
   "source": [
    "# drop duplicate rows, where there are multiple rows per\n",
    "# one state\n",
    "\n",
    "us_census = us_census.drop_duplicates(subset=['State'])"
   ]
  },
  {
   "cell_type": "code",
   "execution_count": 49,
   "metadata": {},
   "outputs": [],
   "source": [
    "# write cleaned and updated US census data to\n",
    "# new csv file\n",
    "\n",
    "us_census.to_csv('states.csv', sep=',')"
   ]
  }
 ],
 "metadata": {
  "kernelspec": {
   "display_name": "base",
   "language": "python",
   "name": "python3"
  },
  "language_info": {
   "codemirror_mode": {
    "name": "ipython",
    "version": 3
   },
   "file_extension": ".py",
   "mimetype": "text/x-python",
   "name": "python",
   "nbconvert_exporter": "python",
   "pygments_lexer": "ipython3",
   "version": "3.9.12"
  }
 },
 "nbformat": 4,
 "nbformat_minor": 2
}
