{
 "cells": [
  {
   "cell_type": "markdown",
   "metadata": {},
   "source": [
    "# Basic Stock Price Returns and Variance Analysis \n",
    "\n",
    "Completed for my \"Analyzing Financial Data using Python\" Codecademy course.\n",
    "\n",
    "Robert Hall\n",
    "\n",
    "12/25/2024\n",
    "\n",
    "Disclaimer: Stock prices, returns, and resulting financial statistics do not reflect real stock prices, returns or resulting financial statistics for either Amazon or Ebay. Figures below were provided by Codecademy in the project template. Any similarity to real data -- past, present or future -- is entirely coincidental. "
   ]
  },
  {
   "cell_type": "code",
   "execution_count": 12,
   "metadata": {},
   "outputs": [],
   "source": [
    "from utils import *\n",
    "from math import log, sqrt"
   ]
  },
  {
   "cell_type": "code",
   "execution_count": 13,
   "metadata": {},
   "outputs": [],
   "source": [
    "amazon_prices = [1699.8, 1777.44, 2012.71, 2003.0, 1598.01, 1690.17, 1501.97, 1718.73, 1639.83, 1780.75, 1926.52, 1775.07, 1893.63]\n",
    "ebay_prices = [35.98, 33.2, 34.35, 32.77, 28.81, 29.62, 27.86, 33.39, 37.01, 37.0, 38.6, 35.93, 39.5]"
   ]
  },
  {
   "cell_type": "markdown",
   "metadata": {},
   "source": [
    "### 1. Calculate Rate(s) of Return"
   ]
  },
  {
   "cell_type": "code",
   "execution_count": 14,
   "metadata": {},
   "outputs": [],
   "source": [
    "# function to calculate percentage returns given a list of monthly stock prices\n",
    "def get_returns(prices):\n",
    "  '''\n",
    "  prices:   a python list of sequential monthly stock prices\n",
    "  returns:  a list of corresponding sequential percentage monthly returns \n",
    "  '''\n",
    "  returns = []\n",
    "  for p in range(len(prices)-1):\n",
    "    returns.append(calculate_log_return(prices[p], prices[p+1]))\n",
    "  return returns"
   ]
  },
  {
   "cell_type": "code",
   "execution_count": 15,
   "metadata": {},
   "outputs": [
    {
     "name": "stdout",
     "output_type": "stream",
     "text": [
      "[0.044663529768886545, 0.12430794584153733, -0.004836016009131401, -0.22588695153690044, 0.056070010445170376, -0.11805153581831997, 0.13480806622777397, -0.046993068074800755, 0.082442045949722, 0.07868064267475429, -0.0818754077815861, 0.06465576316168306]\n",
      "[-0.080413352599944, 0.034052142745915476, -0.04708855595763511, -0.1287909136142863, 0.02772725974321574, -0.061257840487993175, 0.18106448560390354, 0.10293169244250136, -0.00027023375384007574, 0.042334363826560736, -0.07167967534535787, 0.09472807078164892]\n"
     ]
    }
   ],
   "source": [
    "# returns for Amazon and eBay stock prices\n",
    "amazon_returns = get_returns(amazon_prices)\n",
    "print(amazon_returns)\n",
    "\n",
    "ebay_returns = get_returns(ebay_prices)\n",
    "print(ebay_returns)"
   ]
  },
  {
   "cell_type": "code",
   "execution_count": 25,
   "metadata": {},
   "outputs": [],
   "source": [
    "import pandas as pd\n",
    "months = [m for m in range(1, 13)]\n",
    "df_amazon = pd.DataFrame({'Month': months,\n",
    "                          'Returns': [display_as_percentage(r) for r in amazon_returns]}).set_index('Month')\n",
    "df_ebay = pd.DataFrame({'Month': months,\n",
    "                        'Returns': [display_as_percentage(r) for r in ebay_returns]}).set_index('Month')"
   ]
  },
  {
   "cell_type": "markdown",
   "metadata": {},
   "source": [
    "#### Amazon Returns: "
   ]
  },
  {
   "cell_type": "code",
   "execution_count": 26,
   "metadata": {},
   "outputs": [
    {
     "data": {
      "text/html": [
       "<div>\n",
       "<style scoped>\n",
       "    .dataframe tbody tr th:only-of-type {\n",
       "        vertical-align: middle;\n",
       "    }\n",
       "\n",
       "    .dataframe tbody tr th {\n",
       "        vertical-align: top;\n",
       "    }\n",
       "\n",
       "    .dataframe thead th {\n",
       "        text-align: right;\n",
       "    }\n",
       "</style>\n",
       "<table border=\"1\" class=\"dataframe\">\n",
       "  <thead>\n",
       "    <tr style=\"text-align: right;\">\n",
       "      <th></th>\n",
       "      <th>Returns</th>\n",
       "    </tr>\n",
       "    <tr>\n",
       "      <th>Month</th>\n",
       "      <th></th>\n",
       "    </tr>\n",
       "  </thead>\n",
       "  <tbody>\n",
       "    <tr>\n",
       "      <th>1</th>\n",
       "      <td>4.5%</td>\n",
       "    </tr>\n",
       "    <tr>\n",
       "      <th>2</th>\n",
       "      <td>12.4%</td>\n",
       "    </tr>\n",
       "    <tr>\n",
       "      <th>3</th>\n",
       "      <td>-0.5%</td>\n",
       "    </tr>\n",
       "    <tr>\n",
       "      <th>4</th>\n",
       "      <td>-22.6%</td>\n",
       "    </tr>\n",
       "    <tr>\n",
       "      <th>5</th>\n",
       "      <td>5.6%</td>\n",
       "    </tr>\n",
       "    <tr>\n",
       "      <th>6</th>\n",
       "      <td>-11.8%</td>\n",
       "    </tr>\n",
       "    <tr>\n",
       "      <th>7</th>\n",
       "      <td>13.5%</td>\n",
       "    </tr>\n",
       "    <tr>\n",
       "      <th>8</th>\n",
       "      <td>-4.7%</td>\n",
       "    </tr>\n",
       "    <tr>\n",
       "      <th>9</th>\n",
       "      <td>8.2%</td>\n",
       "    </tr>\n",
       "    <tr>\n",
       "      <th>10</th>\n",
       "      <td>7.9%</td>\n",
       "    </tr>\n",
       "    <tr>\n",
       "      <th>11</th>\n",
       "      <td>-8.2%</td>\n",
       "    </tr>\n",
       "    <tr>\n",
       "      <th>12</th>\n",
       "      <td>6.5%</td>\n",
       "    </tr>\n",
       "  </tbody>\n",
       "</table>\n",
       "</div>"
      ],
      "text/plain": [
       "      Returns\n",
       "Month        \n",
       "1        4.5%\n",
       "2       12.4%\n",
       "3       -0.5%\n",
       "4      -22.6%\n",
       "5        5.6%\n",
       "6      -11.8%\n",
       "7       13.5%\n",
       "8       -4.7%\n",
       "9        8.2%\n",
       "10       7.9%\n",
       "11      -8.2%\n",
       "12       6.5%"
      ]
     },
     "execution_count": 26,
     "metadata": {},
     "output_type": "execute_result"
    }
   ],
   "source": [
    "df_amazon"
   ]
  },
  {
   "cell_type": "markdown",
   "metadata": {},
   "source": [
    "#### Ebay Returns:"
   ]
  },
  {
   "cell_type": "code",
   "execution_count": 27,
   "metadata": {},
   "outputs": [
    {
     "data": {
      "text/html": [
       "<div>\n",
       "<style scoped>\n",
       "    .dataframe tbody tr th:only-of-type {\n",
       "        vertical-align: middle;\n",
       "    }\n",
       "\n",
       "    .dataframe tbody tr th {\n",
       "        vertical-align: top;\n",
       "    }\n",
       "\n",
       "    .dataframe thead th {\n",
       "        text-align: right;\n",
       "    }\n",
       "</style>\n",
       "<table border=\"1\" class=\"dataframe\">\n",
       "  <thead>\n",
       "    <tr style=\"text-align: right;\">\n",
       "      <th></th>\n",
       "      <th>Returns</th>\n",
       "    </tr>\n",
       "    <tr>\n",
       "      <th>Month</th>\n",
       "      <th></th>\n",
       "    </tr>\n",
       "  </thead>\n",
       "  <tbody>\n",
       "    <tr>\n",
       "      <th>1</th>\n",
       "      <td>-8.0%</td>\n",
       "    </tr>\n",
       "    <tr>\n",
       "      <th>2</th>\n",
       "      <td>3.4%</td>\n",
       "    </tr>\n",
       "    <tr>\n",
       "      <th>3</th>\n",
       "      <td>-4.7%</td>\n",
       "    </tr>\n",
       "    <tr>\n",
       "      <th>4</th>\n",
       "      <td>-12.9%</td>\n",
       "    </tr>\n",
       "    <tr>\n",
       "      <th>5</th>\n",
       "      <td>2.8%</td>\n",
       "    </tr>\n",
       "    <tr>\n",
       "      <th>6</th>\n",
       "      <td>-6.1%</td>\n",
       "    </tr>\n",
       "    <tr>\n",
       "      <th>7</th>\n",
       "      <td>18.1%</td>\n",
       "    </tr>\n",
       "    <tr>\n",
       "      <th>8</th>\n",
       "      <td>10.3%</td>\n",
       "    </tr>\n",
       "    <tr>\n",
       "      <th>9</th>\n",
       "      <td>-0.0%</td>\n",
       "    </tr>\n",
       "    <tr>\n",
       "      <th>10</th>\n",
       "      <td>4.2%</td>\n",
       "    </tr>\n",
       "    <tr>\n",
       "      <th>11</th>\n",
       "      <td>-7.2%</td>\n",
       "    </tr>\n",
       "    <tr>\n",
       "      <th>12</th>\n",
       "      <td>9.5%</td>\n",
       "    </tr>\n",
       "  </tbody>\n",
       "</table>\n",
       "</div>"
      ],
      "text/plain": [
       "      Returns\n",
       "Month        \n",
       "1       -8.0%\n",
       "2        3.4%\n",
       "3       -4.7%\n",
       "4      -12.9%\n",
       "5        2.8%\n",
       "6       -6.1%\n",
       "7       18.1%\n",
       "8       10.3%\n",
       "9       -0.0%\n",
       "10       4.2%\n",
       "11      -7.2%\n",
       "12       9.5%"
      ]
     },
     "execution_count": 27,
     "metadata": {},
     "output_type": "execute_result"
    }
   ],
   "source": [
    "df_ebay"
   ]
  },
  {
   "cell_type": "code",
   "execution_count": 28,
   "metadata": {},
   "outputs": [
    {
     "name": "stdout",
     "output_type": "stream",
     "text": [
      "Annual Amazon Return:   10.8%\n",
      "Annual Ebay Return:     9.3%\n"
     ]
    }
   ],
   "source": [
    "amazon_annual_return = display_as_percentage(sum(amazon_returns))\n",
    "ebay_annual_return = display_as_percentage(sum(ebay_returns))\n",
    "print(f\"Annual Amazon Return:   {amazon_annual_return}\")\n",
    "print(f\"Annual Ebay Return:     {ebay_annual_return}\")"
   ]
  },
  {
   "cell_type": "markdown",
   "metadata": {},
   "source": [
    "### 2. Evaluate Variance and Standard Devation of Amazon, Ebay Returns"
   ]
  },
  {
   "cell_type": "code",
   "execution_count": 30,
   "metadata": {},
   "outputs": [
    {
     "name": "stdout",
     "output_type": "stream",
     "text": [
      "Variance in Amazon Returns:     1.1%\n",
      "Variance in Ebay Returns:       0.7%\n"
     ]
    }
   ],
   "source": [
    "amazon_var = calculate_variance(amazon_returns)\n",
    "ebay_var = calculate_variance(ebay_returns)\n",
    "\n",
    "print(f\"Variance in Amazon Returns:     {display_as_percentage(amazon_var)}\")\n",
    "print(f\"Variance in Ebay Returns:       {display_as_percentage(ebay_var)}\")"
   ]
  },
  {
   "cell_type": "code",
   "execution_count": 31,
   "metadata": {},
   "outputs": [
    {
     "name": "stdout",
     "output_type": "stream",
     "text": [
      "Std. Deviation of Amazon Returns:     10.4%\n",
      "Std. Deviation of Ebay Returns:       8.6%\n"
     ]
    }
   ],
   "source": [
    "amazon_stdev = calculate_stddev(amazon_returns)\n",
    "ebay_stdev = calculate_stddev(ebay_returns)\n",
    "\n",
    "print(f\"Std. Deviation of Amazon Returns:     {display_as_percentage(amazon_stdev)}\")\n",
    "print(f\"Std. Deviation of Ebay Returns:       {display_as_percentage(ebay_stdev)}\")"
   ]
  },
  {
   "cell_type": "markdown",
   "metadata": {},
   "source": [
    "### 3. Evaluate Correlation Between Amazon and Ebay Rates"
   ]
  },
  {
   "cell_type": "code",
   "execution_count": 37,
   "metadata": {},
   "outputs": [
    {
     "name": "stdout",
     "output_type": "stream",
     "text": [
      "r coefficient:      0.68\n",
      "r^2 coefficient:    0.46\n"
     ]
    }
   ],
   "source": [
    "r = round(calculate_correlation(amazon_returns, ebay_returns), 2)\n",
    "r2 = round(r ** 2, 2)\n",
    "print(f\"r coefficient:      {r}\")\n",
    "print(f\"r^2 coefficient:    {r2}\")"
   ]
  },
  {
   "cell_type": "markdown",
   "metadata": {},
   "source": [
    "### Summary and Key Takeaways:\n",
    "\n",
    "* Amazon's stock price shows an annual return of 10.8%, with Ebay showing a comparably impressive 9.3%\n",
    "* There exists higher variability in Amazon's monthly returns compared to Ebay's\n",
    "* There exists a moderately strong relationship between Amazon's returns and Ebay's returns\n",
    "* Approximately 46% of the variability in Ebay's returns can be explained by Amazon's returns"
   ]
  }
 ],
 "metadata": {
  "kernelspec": {
   "display_name": "base",
   "language": "python",
   "name": "python3"
  },
  "language_info": {
   "codemirror_mode": {
    "name": "ipython",
    "version": 3
   },
   "file_extension": ".py",
   "mimetype": "text/x-python",
   "name": "python",
   "nbconvert_exporter": "python",
   "pygments_lexer": "ipython3",
   "version": "3.12.4"
  }
 },
 "nbformat": 4,
 "nbformat_minor": 2
}
