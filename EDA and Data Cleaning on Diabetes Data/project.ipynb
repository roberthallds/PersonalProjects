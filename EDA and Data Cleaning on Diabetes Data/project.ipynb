{
 "cells": [
  {
   "cell_type": "markdown",
   "metadata": {},
   "source": [
    "## Exploratory data analysis and data cleaning on diabetes data among a sample of Pima Indian female patients.\n",
    "\n",
    "For my Codecademy certification course in\n",
    "data science and machine learning engineering\n",
    "\n",
    "Robert Hall 01.24.2024\n",
    "\n",
    "Data found here, from the National Institute of Diabetes and Digiestive and Kidney Diseases:\n",
    "https://www.kaggle.com/datasets/uciml/pima-indians-diabetes-database/data "
   ]
  },
  {
   "cell_type": "code",
   "execution_count": 1,
   "metadata": {},
   "outputs": [],
   "source": [
    "# import needed libraries\n",
    "import numpy as np \n",
    "import pandas as pd "
   ]
  },
  {
   "cell_type": "markdown",
   "metadata": {},
   "source": [
    "Task 1:\n",
    "\n",
    "\"Load the data in a variable called 'diabetes_data' and print the first few rows\""
   ]
  },
  {
   "cell_type": "code",
   "execution_count": 2,
   "metadata": {},
   "outputs": [
    {
     "name": "stdout",
     "output_type": "stream",
     "text": [
      "   Pregnancies  Glucose  BloodPressure  SkinThickness  Insulin   BMI  \\\n",
      "0            6      148             72             35        0  33.6   \n",
      "1            1       85             66             29        0  26.6   \n",
      "2            8      183             64              0        0  23.3   \n",
      "3            1       89             66             23       94  28.1   \n",
      "4            0      137             40             35      168  43.1   \n",
      "\n",
      "   DiabetesPedigreeFunction  Age Outcome  \n",
      "0                     0.627   50       1  \n",
      "1                     0.351   31       0  \n",
      "2                     0.672   32       1  \n",
      "3                     0.167   21       0  \n",
      "4                     2.288   33       1  \n"
     ]
    }
   ],
   "source": [
    "diabetes_data = pd.read_csv('diabetes.csv')\n",
    "print(diabetes_data.head())"
   ]
  },
  {
   "cell_type": "markdown",
   "metadata": {},
   "source": [
    "Task 2:\n",
    "\n",
    "\"Do any of the columns in the data contain null (missing) values?\""
   ]
  },
  {
   "cell_type": "code",
   "execution_count": 3,
   "metadata": {},
   "outputs": [
    {
     "name": "stdout",
     "output_type": "stream",
     "text": [
      "Pregnancies                 0\n",
      "Glucose                     0\n",
      "BloodPressure               0\n",
      "SkinThickness               0\n",
      "Insulin                     0\n",
      "BMI                         0\n",
      "DiabetesPedigreeFunction    0\n",
      "Age                         0\n",
      "Outcome                     0\n",
      "dtype: int64\n"
     ]
    }
   ],
   "source": [
    "diabetes_null = diabetes_data.isnull().sum()\n",
    "print(diabetes_null)"
   ]
  },
  {
   "cell_type": "markdown",
   "metadata": {},
   "source": [
    "Task 3:\n",
    "\n",
    "Calculate summary statistics on 'diabetes_data' using \n",
    ".describe() \n",
    "[to determine whether there are null values labeled as something other than NoneType or NaN, etc]\n",
    "\n",
    "as we can see, the minumum values for Glucose, BloodPressure, SkinThickness, Insulin and BMI are 0.0, indicating null data (assuming because those counts are never a flat 0)"
   ]
  },
  {
   "cell_type": "code",
   "execution_count": 4,
   "metadata": {},
   "outputs": [
    {
     "name": "stdout",
     "output_type": "stream",
     "text": [
      "       Pregnancies     Glucose  BloodPressure  SkinThickness     Insulin  \\\n",
      "count   768.000000  768.000000     768.000000     768.000000  768.000000   \n",
      "mean      3.845052  120.894531      69.105469      20.536458   79.799479   \n",
      "std       3.369578   31.972618      19.355807      15.952218  115.244002   \n",
      "min       0.000000    0.000000       0.000000       0.000000    0.000000   \n",
      "25%       1.000000   99.000000      62.000000       0.000000    0.000000   \n",
      "50%       3.000000  117.000000      72.000000      23.000000   30.500000   \n",
      "75%       6.000000  140.250000      80.000000      32.000000  127.250000   \n",
      "max      17.000000  199.000000     122.000000      99.000000  846.000000   \n",
      "\n",
      "              BMI  DiabetesPedigreeFunction         Age  \n",
      "count  768.000000                768.000000  768.000000  \n",
      "mean    31.992578                  0.471876   33.240885  \n",
      "std      7.884160                  0.331329   11.760232  \n",
      "min      0.000000                  0.078000   21.000000  \n",
      "25%     27.300000                  0.243750   24.000000  \n",
      "50%     32.000000                  0.372500   29.000000  \n",
      "75%     36.600000                  0.626250   41.000000  \n",
      "max     67.100000                  2.420000   81.000000  \n"
     ]
    }
   ],
   "source": [
    "print(diabetes_data.describe())"
   ]
  },
  {
   "cell_type": "markdown",
   "metadata": {},
   "source": [
    "Task 4:\n",
    "\n",
    "Replace 0.0 values with np.NaN"
   ]
  },
  {
   "cell_type": "code",
   "execution_count": 6,
   "metadata": {},
   "outputs": [],
   "source": [
    "diabetes_data[['Glucose',\n",
    "               'BloodPressure',\n",
    "               'SkinThickness',\n",
    "               'Insulin',\n",
    "               'BMI']]\\\n",
    "= diabetes_data[['Glucose',\n",
    "                 'BloodPressure',\n",
    "                 'SkinThickness',\n",
    "                 'Insulin',\n",
    "                 'BMI']].replace(0,np.nan)"
   ]
  },
  {
   "cell_type": "markdown",
   "metadata": {},
   "source": [
    "Task 5:\n",
    "\n",
    "Check for null values in all columns, now that all 0.0 values should be converted to np.NaN"
   ]
  },
  {
   "cell_type": "code",
   "execution_count": 7,
   "metadata": {},
   "outputs": [
    {
     "name": "stdout",
     "output_type": "stream",
     "text": [
      "Pregnancies                   0\n",
      "Glucose                       5\n",
      "BloodPressure                35\n",
      "SkinThickness               227\n",
      "Insulin                     374\n",
      "BMI                          11\n",
      "DiabetesPedigreeFunction      0\n",
      "Age                           0\n",
      "Outcome                       0\n",
      "dtype: int64\n"
     ]
    }
   ],
   "source": [
    "diabetes_null = diabetes_data.isnull().sum()\n",
    "print(diabetes_null)"
   ]
  },
  {
   "cell_type": "markdown",
   "metadata": {},
   "source": [
    "Task 6:\n",
    "\n",
    "To get a better idea of why some data might be missing, print out all rows containing null values"
   ]
  },
  {
   "cell_type": "code",
   "execution_count": 8,
   "metadata": {},
   "outputs": [
    {
     "name": "stdout",
     "output_type": "stream",
     "text": [
      "     Pregnancies  Glucose  BloodPressure  SkinThickness  Insulin   BMI  \\\n",
      "0              6    148.0           72.0           35.0      NaN  33.6   \n",
      "1              1     85.0           66.0           29.0      NaN  26.6   \n",
      "2              8    183.0           64.0            NaN      NaN  23.3   \n",
      "5              5    116.0           74.0            NaN      NaN  25.6   \n",
      "7             10    115.0            NaN            NaN      NaN  35.3   \n",
      "..           ...      ...            ...            ...      ...   ...   \n",
      "761            9    170.0           74.0           31.0      NaN  44.0   \n",
      "762            9     89.0           62.0            NaN      NaN  22.5   \n",
      "764            2    122.0           70.0           27.0      NaN  36.8   \n",
      "766            1    126.0           60.0            NaN      NaN  30.1   \n",
      "767            1     93.0           70.0           31.0      NaN  30.4   \n",
      "\n",
      "     DiabetesPedigreeFunction  Age Outcome  \n",
      "0                       0.627   50       1  \n",
      "1                       0.351   31       0  \n",
      "2                       0.672   32       1  \n",
      "5                       0.201   30       0  \n",
      "7                       0.134   29       0  \n",
      "..                        ...  ...     ...  \n",
      "761                     0.403   43       1  \n",
      "762                     0.142   33       0  \n",
      "764                     0.340   27       0  \n",
      "766                     0.349   47       1  \n",
      "767                     0.315   23       0  \n",
      "\n",
      "[376 rows x 9 columns]\n"
     ]
    }
   ],
   "source": [
    "print(diabetes_data[diabetes_data.isnull().any(axis=1)])"
   ]
  },
  {
   "cell_type": "markdown",
   "metadata": {},
   "source": [
    "Task 7:\n",
    "\n",
    "Take a look at the datatypes for each feature in the dataset"
   ]
  },
  {
   "cell_type": "code",
   "execution_count": 9,
   "metadata": {},
   "outputs": [
    {
     "name": "stdout",
     "output_type": "stream",
     "text": [
      "Pregnancies                   int64\n",
      "Glucose                     float64\n",
      "BloodPressure               float64\n",
      "SkinThickness               float64\n",
      "Insulin                     float64\n",
      "BMI                         float64\n",
      "DiabetesPedigreeFunction    float64\n",
      "Age                           int64\n",
      "Outcome                      object\n",
      "dtype: object\n"
     ]
    }
   ],
   "source": [
    "print(diabetes_data.dtypes)"
   ]
  },
  {
   "cell_type": "markdown",
   "metadata": {},
   "source": [
    "Task 8:\n",
    "\n",
    "The 'Outcome' column is an object type instead of the expected int64 type. Print out the unique columns to get a clue as to why"
   ]
  },
  {
   "cell_type": "code",
   "execution_count": 10,
   "metadata": {},
   "outputs": [
    {
     "name": "stdout",
     "output_type": "stream",
     "text": [
      "['1' '0' 'O']\n"
     ]
    }
   ],
   "source": [
    "print(diabetes_data.Outcome.unique())"
   ]
  },
  {
   "cell_type": "markdown",
   "metadata": {},
   "source": [
    "Task 9: \n",
    "\n",
    "The 'Outcome' column appears to be composed of boolean 1's and 0's, except for one 'O' value which appears to be a mistake. Convert all instances with a value of 'O' to 0. \n",
    "\n",
    "Then, change the datatype from object to int64 so that the numbers aren't read as strings would be.\n",
    "\n",
    "Then, print the unique feature values to verify that the modifications were successful."
   ]
  },
  {
   "cell_type": "code",
   "execution_count": 12,
   "metadata": {},
   "outputs": [
    {
     "name": "stdout",
     "output_type": "stream",
     "text": [
      "[1 0]\n"
     ]
    }
   ],
   "source": [
    "diabetes_data['Outcome'] = diabetes_data.Outcome.replace('O', '0')\n",
    "diabetes_data['Outcome'] = diabetes_data.Outcome.astype('int64')\n",
    "print(diabetes_data.Outcome.unique())"
   ]
  }
 ],
 "metadata": {
  "kernelspec": {
   "display_name": "base",
   "language": "python",
   "name": "python3"
  },
  "language_info": {
   "codemirror_mode": {
    "name": "ipython",
    "version": 3
   },
   "file_extension": ".py",
   "mimetype": "text/x-python",
   "name": "python",
   "nbconvert_exporter": "python",
   "pygments_lexer": "ipython3",
   "version": "3.9.12"
  }
 },
 "nbformat": 4,
 "nbformat_minor": 2
}
