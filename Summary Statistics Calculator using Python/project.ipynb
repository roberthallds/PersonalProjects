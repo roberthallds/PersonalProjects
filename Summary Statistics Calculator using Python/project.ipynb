{
 "cells": [
  {
   "cell_type": "markdown",
   "metadata": {},
   "source": [
    "## PROJECT: Summary Statistics Calculator\n",
    "### Robert Hall, 11.12.2023\n",
    "\n",
    "Function calculate()\n",
    "\n",
    "- takes in a single parameter, x, a list of no less than 9 numeric elements\n",
    "- converts the list into a 3x3 numpy array, and re-flattens\n",
    "- calculates summary statistics on each axis of the array in a dictionary format, and\n",
    "- returns the dictionary"
   ]
  },
  {
   "cell_type": "code",
   "execution_count": 1,
   "metadata": {},
   "outputs": [],
   "source": [
    "import numpy as np\n",
    "import pandas as pd"
   ]
  },
  {
   "cell_type": "code",
   "execution_count": 2,
   "metadata": {},
   "outputs": [],
   "source": [
    "def calculate(x):\n",
    "  \n",
    "  if len(x) < 9:\n",
    "    raise ValueError(\"List must contain nine numbers.\")\n",
    "\n",
    "  \n",
    "  # take in list input and reshape to\n",
    "  # a 3x3 np array\n",
    "\n",
    "  new_x = np.array(x)\n",
    "  reshapen_x = new_x.reshape(3,3)\n",
    "  flattened_x = reshapen_x.reshape(-1)\n",
    "\n",
    "  # calculate summary statistics on new 3x3 array\n",
    "\n",
    "  x_stats_dict = {\n",
    "    'mean': [\n",
    "      list(np.mean(reshapen_x, axis=0)),\n",
    "      list(np.mean(reshapen_x, axis=1)),\n",
    "      np.mean(flattened_x)\n",
    "    ],\n",
    "    'variance': [\n",
    "      list(np.var(reshapen_x, axis=0)),\n",
    "      list(np.var(reshapen_x, axis=1)),\n",
    "      np.var(flattened_x)\n",
    "    ],\n",
    "    'standard deviation': [\n",
    "      list(np.std(reshapen_x, axis=0)),\n",
    "      list(np.std(reshapen_x, axis=1)),\n",
    "      np.std(flattened_x)\n",
    "    ],\n",
    "    'max': [\n",
    "      list(np.max(reshapen_x, axis=0)),\n",
    "      list(np.max(reshapen_x, axis=1)),\n",
    "      np.max(flattened_x)\n",
    "    ],\n",
    "    'min': [\n",
    "      list(np.min(reshapen_x, axis=0)),\n",
    "      list(np.min(reshapen_x, axis=1)),\n",
    "      np.min(flattened_x)\n",
    "    ],\n",
    "    'sum': [\n",
    "      list(np.sum(reshapen_x, axis=0)),\n",
    "      list(np.sum(reshapen_x, axis=1)),\n",
    "      np.sum(flattened_x)\n",
    "    ]\n",
    "  }\n",
    "\n",
    "  return x_stats_dict"
   ]
  },
  {
   "cell_type": "code",
   "execution_count": 3,
   "metadata": {},
   "outputs": [
    {
     "name": "stdout",
     "output_type": "stream",
     "text": [
      "{'mean': [[3.0, 4.0, 5.0], [1.0, 4.0, 7.0], 4.0], 'variance': [[6.0, 6.0, 6.0], [0.6666666666666666, 0.6666666666666666, 0.6666666666666666], 6.666666666666667], 'standard deviation': [[2.449489742783178, 2.449489742783178, 2.449489742783178], [0.816496580927726, 0.816496580927726, 0.816496580927726], 2.581988897471611], 'max': [[6, 7, 8], [2, 5, 8], 8], 'min': [[0, 1, 2], [0, 3, 6], 0], 'sum': [[9, 12, 15], [3, 12, 21], 36]}\n"
     ]
    }
   ],
   "source": [
    "test_subject = calculate([0,1,2,3,4,5,6,7,8])\n",
    "print(test_subject)"
   ]
  }
 ],
 "metadata": {
  "kernelspec": {
   "display_name": "base",
   "language": "python",
   "name": "python3"
  },
  "language_info": {
   "codemirror_mode": {
    "name": "ipython",
    "version": 3
   },
   "file_extension": ".py",
   "mimetype": "text/x-python",
   "name": "python",
   "nbconvert_exporter": "python",
   "pygments_lexer": "ipython3",
   "version": "3.9.12"
  }
 },
 "nbformat": 4,
 "nbformat_minor": 2
}
