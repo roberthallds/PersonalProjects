{
 "cells": [
  {
   "cell_type": "markdown",
   "metadata": {},
   "source": [
    "## Analyze Inventory Data using Pandas\n",
    "\n",
    "A practice project for my Codecademy professional certification in Data Science and ML Engineering\n",
    "\n",
    "Robert Hall 01/04/2024"
   ]
  },
  {
   "cell_type": "code",
   "execution_count": 1,
   "metadata": {},
   "outputs": [],
   "source": [
    "import pandas as pd"
   ]
  },
  {
   "cell_type": "code",
   "execution_count": 2,
   "metadata": {},
   "outputs": [],
   "source": [
    "# Step 1: Data for all of the locations of Petal Power is in the file inventory.csv. \n",
    "# Load the data into a DataFrame called inventory.\n",
    "inventory = pd.read_csv('inventory.csv')"
   ]
  },
  {
   "cell_type": "code",
   "execution_count": 3,
   "metadata": {},
   "outputs": [
    {
     "name": "stdout",
     "output_type": "stream",
     "text": [
      "        location  product_type product_description  quantity  price\n",
      "0  Staten Island         seeds               daisy         4   6.99\n",
      "1  Staten Island         seeds          calla lily        46  19.99\n",
      "2  Staten Island         seeds              tomato        85  13.99\n",
      "3  Staten Island  garden tools                rake         4  13.99\n",
      "4  Staten Island  garden tools         wheelbarrow         0  89.99\n"
     ]
    }
   ],
   "source": [
    "# Step 2: Inspect the first 10 rows of inventory.\n",
    "print(inventory.head())"
   ]
  },
  {
   "cell_type": "code",
   "execution_count": 4,
   "metadata": {},
   "outputs": [
    {
     "name": "stdout",
     "output_type": "stream",
     "text": [
      "        location  product_type product_description  quantity  price\n",
      "0  Staten Island         seeds               daisy         4   6.99\n",
      "1  Staten Island         seeds          calla lily        46  19.99\n",
      "2  Staten Island         seeds              tomato        85  13.99\n",
      "3  Staten Island  garden tools                rake         4  13.99\n",
      "4  Staten Island  garden tools         wheelbarrow         0  89.99\n"
     ]
    }
   ],
   "source": [
    "# Step 3: The first 10 rows represent data from your Staten Island location. \n",
    "# Select these rows and save them to staten_island.\n",
    "staten_island = inventory[inventory['location'] == 'Staten Island']\n",
    "print(staten_island.head())"
   ]
  },
  {
   "cell_type": "code",
   "execution_count": 5,
   "metadata": {},
   "outputs": [
    {
     "name": "stdout",
     "output_type": "stream",
     "text": [
      "0          daisy\n",
      "1     calla lily\n",
      "2         tomato\n",
      "3           rake\n",
      "4    wheelbarrow\n",
      "Name: product_description, dtype: object\n"
     ]
    }
   ],
   "source": [
    "# Step 4: A customer just emailed you asking what products are sold at your Staten Island location. \n",
    "# Select the column product_description from staten_island and save it to the variable product_request.\n",
    "product_request = staten_island['product_description']\n",
    "print(product_request.head())"
   ]
  },
  {
   "cell_type": "code",
   "execution_count": 12,
   "metadata": {},
   "outputs": [
    {
     "name": "stdout",
     "output_type": "stream",
     "text": [
      "Empty DataFrame\n",
      "Columns: [location, product_type, product_description, quantity, price, in_stock, total_value, full_description]\n",
      "Index: []\n"
     ]
    }
   ],
   "source": [
    "# Step 5: Another customer emails to ask what types of seeds are sold at the Brooklyn location. \n",
    "# Select all rows where location is equal to Brooklyn and product_type is equal to seeds and \n",
    "# save them to the variable seed_request.\n",
    "seed_request = inventory[(inventory.location == 'Brooklyn') & inventory.product_type == 'seeds']\n",
    "print(seed_request.head())"
   ]
  },
  {
   "cell_type": "code",
   "execution_count": 7,
   "metadata": {},
   "outputs": [
    {
     "name": "stdout",
     "output_type": "stream",
     "text": [
      "        location  product_type product_description  quantity  price  in_stock\n",
      "0  Staten Island         seeds               daisy         4   6.99      True\n",
      "1  Staten Island         seeds          calla lily        46  19.99      True\n",
      "2  Staten Island         seeds              tomato        85  13.99      True\n",
      "3  Staten Island  garden tools                rake         4  13.99      True\n",
      "4  Staten Island  garden tools         wheelbarrow         0  89.99     False\n"
     ]
    }
   ],
   "source": [
    "# Step 6: Add a column to inventory called in_stock which is True if quantity is greater than 0 \n",
    "# and False if quantity equals 0.\n",
    "inventory['in_stock'] = inventory.apply(lambda row: True if row['quantity'] > 0 else False, axis=1)\n",
    "print(inventory.head())"
   ]
  },
  {
   "cell_type": "code",
   "execution_count": 8,
   "metadata": {},
   "outputs": [],
   "source": [
    "# Step 7: Petal Power wants to know how valuable their current inventory is. \n",
    "# Create a column called total_value that is equal to price multiplied by quantity.\n",
    "inventory['total_value'] = inventory.price * inventory.quantity"
   ]
  },
  {
   "cell_type": "code",
   "execution_count": 9,
   "metadata": {},
   "outputs": [
    {
     "name": "stdout",
     "output_type": "stream",
     "text": [
      "        location  product_type product_description  quantity  price  in_stock  \\\n",
      "0  Staten Island         seeds               daisy         4   6.99      True   \n",
      "1  Staten Island         seeds          calla lily        46  19.99      True   \n",
      "2  Staten Island         seeds              tomato        85  13.99      True   \n",
      "3  Staten Island  garden tools                rake         4  13.99      True   \n",
      "4  Staten Island  garden tools         wheelbarrow         0  89.99     False   \n",
      "\n",
      "   total_value            full_description  \n",
      "0        27.96               seeds - daisy  \n",
      "1       919.54          seeds - calla lily  \n",
      "2      1189.15              seeds - tomato  \n",
      "3        55.96         garden tools - rake  \n",
      "4         0.00  garden tools - wheelbarrow  \n"
     ]
    }
   ],
   "source": [
    "# Step 8: Using combine_lambda, create a new column in inventory called full_description \n",
    "# that has the complete description of each product.\n",
    "\n",
    "combine_lambda = lambda row: \\\n",
    "    '{} - {}'.format(row.product_type,\n",
    "                     row.product_description)\n",
    "\n",
    "inventory['full_description'] = inventory.apply(combine_lambda, axis=1)\n",
    "print(inventory.head())"
   ]
  }
 ],
 "metadata": {
  "kernelspec": {
   "display_name": "base",
   "language": "python",
   "name": "python3"
  },
  "language_info": {
   "codemirror_mode": {
    "name": "ipython",
    "version": 3
   },
   "file_extension": ".py",
   "mimetype": "text/x-python",
   "name": "python",
   "nbconvert_exporter": "python",
   "pygments_lexer": "ipython3",
   "version": "3.9.12"
  }
 },
 "nbformat": 4,
 "nbformat_minor": 2
}
