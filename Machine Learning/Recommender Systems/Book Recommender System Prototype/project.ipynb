{
 "cells": [
  {
   "cell_type": "markdown",
   "metadata": {},
   "source": [
    "# Book Recommender System Prototype Using Surprise\n",
    "\n",
    "A project for my Codecademy Certified Data Scientist: Machine Learning Specialist professional certification.\n",
    "\n",
    "Robert Hall\n",
    "\n",
    "01/07/2025\n"
   ]
  },
  {
   "cell_type": "markdown",
   "metadata": {},
   "source": [
    "### 1. Data Importation and Basic Exploration"
   ]
  },
  {
   "cell_type": "code",
   "execution_count": 2,
   "metadata": {},
   "outputs": [
    {
     "data": {
      "text/html": [
       "<div>\n",
       "<style scoped>\n",
       "    .dataframe tbody tr th:only-of-type {\n",
       "        vertical-align: middle;\n",
       "    }\n",
       "\n",
       "    .dataframe tbody tr th {\n",
       "        vertical-align: top;\n",
       "    }\n",
       "\n",
       "    .dataframe thead th {\n",
       "        text-align: right;\n",
       "    }\n",
       "</style>\n",
       "<table border=\"1\" class=\"dataframe\">\n",
       "  <thead>\n",
       "    <tr style=\"text-align: right;\">\n",
       "      <th></th>\n",
       "      <th>user_id</th>\n",
       "      <th>book_id</th>\n",
       "      <th>review_id</th>\n",
       "      <th>rating</th>\n",
       "      <th>review_text</th>\n",
       "      <th>date_added</th>\n",
       "      <th>date_updated</th>\n",
       "      <th>read_at</th>\n",
       "      <th>started_at</th>\n",
       "      <th>n_votes</th>\n",
       "      <th>n_comments</th>\n",
       "    </tr>\n",
       "  </thead>\n",
       "  <tbody>\n",
       "    <tr>\n",
       "      <th>0</th>\n",
       "      <td>d089c9b670c0b0b339353aebbace46a1</td>\n",
       "      <td>7686667</td>\n",
       "      <td>3337e0e75701f7f682de11638ccdc60c</td>\n",
       "      <td>3</td>\n",
       "      <td>Like Matched, this book felt like it was echoi...</td>\n",
       "      <td>Fri Apr 29 14:45:32 -0700 2011</td>\n",
       "      <td>Mon Feb 02 12:57:57 -0800 2015</td>\n",
       "      <td>Sat Jun 18 00:00:00 -0700 2011</td>\n",
       "      <td>Thu May 19 00:00:00 -0700 2011</td>\n",
       "      <td>0</td>\n",
       "      <td>0</td>\n",
       "    </tr>\n",
       "    <tr>\n",
       "      <th>1</th>\n",
       "      <td>6dcb2c16e12a41ae0c6c38e9d46f3292</td>\n",
       "      <td>18073066</td>\n",
       "      <td>7201aa3c1161f2bad81258b6d4686c16</td>\n",
       "      <td>5</td>\n",
       "      <td>WOW again! 4,5 Stars \\n So i wont forget to me...</td>\n",
       "      <td>Thu Aug 01 02:15:18 -0700 2013</td>\n",
       "      <td>Mon Nov 18 14:49:26 -0800 2013</td>\n",
       "      <td>Mon Aug 19 00:00:00 -0700 2013</td>\n",
       "      <td>Mon Aug 12 00:00:00 -0700 2013</td>\n",
       "      <td>16</td>\n",
       "      <td>14</td>\n",
       "    </tr>\n",
       "    <tr>\n",
       "      <th>2</th>\n",
       "      <td>244e0ce681148a7586d7746676093ce9</td>\n",
       "      <td>13610986</td>\n",
       "      <td>07a203f87bfe1b65ff58774667f6f80d</td>\n",
       "      <td>5</td>\n",
       "      <td>The second novel was hot &amp; heavy. Not only in ...</td>\n",
       "      <td>Sun Nov 23 18:17:50 -0800 2014</td>\n",
       "      <td>Sat May 16 20:34:19 -0700 2015</td>\n",
       "      <td>Fri Dec 19 00:00:00 -0800 2014</td>\n",
       "      <td>Sun Nov 23 00:00:00 -0800 2014</td>\n",
       "      <td>0</td>\n",
       "      <td>0</td>\n",
       "    </tr>\n",
       "    <tr>\n",
       "      <th>3</th>\n",
       "      <td>73fcc25ff29f8b73b3a7578aec846394</td>\n",
       "      <td>27274343</td>\n",
       "      <td>8be2d87b07098c16f9742020ec459383</td>\n",
       "      <td>1</td>\n",
       "      <td>What a maddening waste of time. And I unfortun...</td>\n",
       "      <td>Mon Oct 31 08:29:06 -0700 2016</td>\n",
       "      <td>Wed Apr 26 16:06:28 -0700 2017</td>\n",
       "      <td>Wed Apr 26 16:06:28 -0700 2017</td>\n",
       "      <td>Sun Apr 23 00:00:00 -0700 2017</td>\n",
       "      <td>0</td>\n",
       "      <td>1</td>\n",
       "    </tr>\n",
       "    <tr>\n",
       "      <th>4</th>\n",
       "      <td>f8880e158a163388a990b64fec7df300</td>\n",
       "      <td>11614718</td>\n",
       "      <td>a29c4ba03e33ad073a414ac775266c5f</td>\n",
       "      <td>4</td>\n",
       "      <td>4.5 stars! \\n This was an awesome read! \\n So ...</td>\n",
       "      <td>Tue Mar 26 10:55:30 -0700 2013</td>\n",
       "      <td>Mon Sep 08 09:57:05 -0700 2014</td>\n",
       "      <td>Sun Apr 20 09:26:41 -0700 2014</td>\n",
       "      <td>Fri Apr 18 00:00:00 -0700 2014</td>\n",
       "      <td>0</td>\n",
       "      <td>0</td>\n",
       "    </tr>\n",
       "  </tbody>\n",
       "</table>\n",
       "</div>"
      ],
      "text/plain": [
       "                            user_id   book_id  \\\n",
       "0  d089c9b670c0b0b339353aebbace46a1   7686667   \n",
       "1  6dcb2c16e12a41ae0c6c38e9d46f3292  18073066   \n",
       "2  244e0ce681148a7586d7746676093ce9  13610986   \n",
       "3  73fcc25ff29f8b73b3a7578aec846394  27274343   \n",
       "4  f8880e158a163388a990b64fec7df300  11614718   \n",
       "\n",
       "                          review_id  rating  \\\n",
       "0  3337e0e75701f7f682de11638ccdc60c       3   \n",
       "1  7201aa3c1161f2bad81258b6d4686c16       5   \n",
       "2  07a203f87bfe1b65ff58774667f6f80d       5   \n",
       "3  8be2d87b07098c16f9742020ec459383       1   \n",
       "4  a29c4ba03e33ad073a414ac775266c5f       4   \n",
       "\n",
       "                                         review_text  \\\n",
       "0  Like Matched, this book felt like it was echoi...   \n",
       "1  WOW again! 4,5 Stars \\n So i wont forget to me...   \n",
       "2  The second novel was hot & heavy. Not only in ...   \n",
       "3  What a maddening waste of time. And I unfortun...   \n",
       "4  4.5 stars! \\n This was an awesome read! \\n So ...   \n",
       "\n",
       "                       date_added                    date_updated  \\\n",
       "0  Fri Apr 29 14:45:32 -0700 2011  Mon Feb 02 12:57:57 -0800 2015   \n",
       "1  Thu Aug 01 02:15:18 -0700 2013  Mon Nov 18 14:49:26 -0800 2013   \n",
       "2  Sun Nov 23 18:17:50 -0800 2014  Sat May 16 20:34:19 -0700 2015   \n",
       "3  Mon Oct 31 08:29:06 -0700 2016  Wed Apr 26 16:06:28 -0700 2017   \n",
       "4  Tue Mar 26 10:55:30 -0700 2013  Mon Sep 08 09:57:05 -0700 2014   \n",
       "\n",
       "                          read_at                      started_at  n_votes  \\\n",
       "0  Sat Jun 18 00:00:00 -0700 2011  Thu May 19 00:00:00 -0700 2011        0   \n",
       "1  Mon Aug 19 00:00:00 -0700 2013  Mon Aug 12 00:00:00 -0700 2013       16   \n",
       "2  Fri Dec 19 00:00:00 -0800 2014  Sun Nov 23 00:00:00 -0800 2014        0   \n",
       "3  Wed Apr 26 16:06:28 -0700 2017  Sun Apr 23 00:00:00 -0700 2017        0   \n",
       "4  Sun Apr 20 09:26:41 -0700 2014  Fri Apr 18 00:00:00 -0700 2014        0   \n",
       "\n",
       "   n_comments  \n",
       "0           0  \n",
       "1          14  \n",
       "2           0  \n",
       "3           1  \n",
       "4           0  "
      ]
     },
     "execution_count": 2,
     "metadata": {},
     "output_type": "execute_result"
    }
   ],
   "source": [
    "import pandas as pd\n",
    "book_ratings = pd.read_csv('goodreads_ratings.csv')\n",
    "book_ratings.head()"
   ]
  },
  {
   "cell_type": "code",
   "execution_count": 3,
   "metadata": {},
   "outputs": [
    {
     "data": {
      "text/plain": [
       "(3500, 11)"
      ]
     },
     "execution_count": 3,
     "metadata": {},
     "output_type": "execute_result"
    }
   ],
   "source": [
    "#1. Print dataset size and examine column data types\n",
    "book_ratings.shape"
   ]
  },
  {
   "cell_type": "code",
   "execution_count": 4,
   "metadata": {},
   "outputs": [
    {
     "data": {
      "text/plain": [
       "rating\n",
       "4    1278\n",
       "5    1001\n",
       "3     707\n",
       "2     269\n",
       "1     125\n",
       "0     120\n",
       "Name: count, dtype: int64"
      ]
     },
     "execution_count": 4,
     "metadata": {},
     "output_type": "execute_result"
    }
   ],
   "source": [
    "#2. Distribution of ratings\n",
    "book_ratings['rating'].value_counts()"
   ]
  },
  {
   "cell_type": "markdown",
   "metadata": {},
   "source": [
    "### 2. Data Preparation for Sunrise Recommender System"
   ]
  },
  {
   "cell_type": "code",
   "execution_count": 5,
   "metadata": {},
   "outputs": [
    {
     "data": {
      "text/plain": [
       "rating\n",
       "4    1278\n",
       "5    1001\n",
       "3     707\n",
       "2     269\n",
       "1     125\n",
       "Name: count, dtype: int64"
      ]
     },
     "execution_count": 5,
     "metadata": {},
     "output_type": "execute_result"
    }
   ],
   "source": [
    "#3. Filter ratings that are out of range\n",
    "book_ratings = book_ratings[book_ratings['rating'] != 0]\n",
    "book_ratings['rating'].value_counts()"
   ]
  },
  {
   "cell_type": "markdown",
   "metadata": {},
   "source": [
    "### 3. Build Model and Truncate Original Dataset to Three Necessary Features"
   ]
  },
  {
   "cell_type": "code",
   "execution_count": 6,
   "metadata": {},
   "outputs": [],
   "source": [
    "#4. Prepare data for surprise: build a Suprise reader object\n",
    "from surprise import Reader\n",
    "reader = Reader(rating_scale=(1, 5))"
   ]
  },
  {
   "cell_type": "code",
   "execution_count": 7,
   "metadata": {},
   "outputs": [],
   "source": [
    "#5. Load `book_ratings` into a Surprise Dataset\n",
    "from surprise import Dataset\n",
    "data = Dataset.load_from_df(book_ratings[['user_id','book_id','rating']], reader)"
   ]
  },
  {
   "cell_type": "markdown",
   "metadata": {},
   "source": [
    "### 4. Split Dataset into Train and Test Sets"
   ]
  },
  {
   "cell_type": "code",
   "execution_count": 8,
   "metadata": {},
   "outputs": [],
   "source": [
    "#6. Create a 80:20 train-test split and set the random state to 7\n",
    "from surprise.model_selection import train_test_split\n",
    "trainset, testset = train_test_split(data, test_size=.2, random_state=7)"
   ]
  },
  {
   "cell_type": "markdown",
   "metadata": {},
   "source": [
    "### 5. Build and Train a K-Nearest-Neighbors Collaborative Filter"
   ]
  },
  {
   "cell_type": "code",
   "execution_count": 9,
   "metadata": {},
   "outputs": [
    {
     "name": "stdout",
     "output_type": "stream",
     "text": [
      "Computing the msd similarity matrix...\n",
      "Done computing similarity matrix.\n"
     ]
    },
    {
     "data": {
      "text/plain": [
       "<surprise.prediction_algorithms.knns.KNNBasic at 0x11fb4a5a0>"
      ]
     },
     "execution_count": 9,
     "metadata": {},
     "output_type": "execute_result"
    }
   ],
   "source": [
    "#7. Use KNNBasice from Surprise to train a collaborative filter\n",
    "from surprise import KNNBasic\n",
    "nn_algo = KNNBasic()\n",
    "nn_algo.fit(trainset)"
   ]
  },
  {
   "cell_type": "markdown",
   "metadata": {},
   "source": [
    "### 6. Evaluate Model Accuracy By Its Root Mean Squared Error (RMSE)"
   ]
  },
  {
   "cell_type": "code",
   "execution_count": 10,
   "metadata": {},
   "outputs": [
    {
     "name": "stdout",
     "output_type": "stream",
     "text": [
      "RMSE: 1.1105\n"
     ]
    },
    {
     "data": {
      "text/plain": [
       "1.110471008157185"
      ]
     },
     "execution_count": 10,
     "metadata": {},
     "output_type": "execute_result"
    }
   ],
   "source": [
    "#8. Evaluate the recommender system\n",
    "from surprise import accuracy\n",
    "predictions = nn_algo.test(testset)\n",
    "accuracy.rmse(predictions)"
   ]
  },
  {
   "cell_type": "markdown",
   "metadata": {},
   "source": [
    "### 7. Predict Score of \"The Martian\" An Individual Would Give Who Gave \"The Three Body Problem\" a Rating of 5"
   ]
  },
  {
   "cell_type": "code",
   "execution_count": 11,
   "metadata": {},
   "outputs": [
    {
     "name": "stdout",
     "output_type": "stream",
     "text": [
      "3.8250739644970415\n"
     ]
    }
   ],
   "source": [
    "#9. Prediction on a user who gave the \"The Three-Body Problem\" a rating of 5\n",
    "print(nn_algo.predict('8842281e1d1347389f2ab93d60773d4d', '18007564').est)"
   ]
  }
 ],
 "metadata": {
  "kernelspec": {
   "display_name": "base",
   "language": "python",
   "name": "python3"
  },
  "language_info": {
   "codemirror_mode": {
    "name": "ipython",
    "version": 3
   },
   "file_extension": ".py",
   "mimetype": "text/x-python",
   "name": "python",
   "nbconvert_exporter": "python",
   "pygments_lexer": "ipython3",
   "version": "3.12.4"
  }
 },
 "nbformat": 4,
 "nbformat_minor": 2
}
