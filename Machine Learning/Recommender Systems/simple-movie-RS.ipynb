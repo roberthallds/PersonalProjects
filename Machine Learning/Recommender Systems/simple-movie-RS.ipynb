{
 "cells": [
  {
   "cell_type": "markdown",
   "metadata": {},
   "source": [
    "# Simple Movie Recommender System Using Surprise \n",
    "(Surprise = Simple Python Recommender System Engine)\n",
    "\n",
    "A project for my Codecademy Certified Data Scientist: Machine Learning specialist professional certification.\n",
    "\n",
    "Robert Hall\n",
    "\n",
    "01/07/2025"
   ]
  }
 ],
 "metadata": {
  "kernelspec": {
   "display_name": "base",
   "language": "python",
   "name": "python3"
  },
  "language_info": {
   "codemirror_mode": {
    "name": "ipython",
    "version": 3
   },
   "file_extension": ".py",
   "mimetype": "text/x-python",
   "name": "python",
   "nbconvert_exporter": "python",
   "pygments_lexer": "ipython3",
   "version": "3.12.4"
  }
 },
 "nbformat": 4,
 "nbformat_minor": 2
}
