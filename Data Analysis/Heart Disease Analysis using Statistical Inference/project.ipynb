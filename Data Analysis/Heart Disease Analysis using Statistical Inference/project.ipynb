{
 "cells": [
  {
   "cell_type": "markdown",
   "metadata": {},
   "source": [
    "## Analyzing Heart Disease Data using Statistical Inference Techniques\n",
    "\n",
    "A project for my Codecademy Data Scientist certification, for specialists in Machine Learning.\n",
    "\n",
    "Data downloaded from the [UCI Machine Learning Repository](https://archive.ics.uci.edu/dataset/45/heart+disease).\n",
    "\n",
    "Robert Hall\n",
    "\n",
    "08/20/2024"
   ]
  },
  {
   "cell_type": "code",
   "execution_count": 47,
   "metadata": {},
   "outputs": [],
   "source": [
    "import pandas as pd\n",
    "import numpy as np\n",
    "import matplotlib.pyplot as plt \n",
    "import seaborn as sns\n",
    "from scipy.stats import ttest_ind, f_oneway, chi2_contingency\n",
    "from statsmodels.stats.multicomp import pairwise_tukeyhsd"
   ]
  },
  {
   "cell_type": "markdown",
   "metadata": {},
   "source": [
    "#### Import Data\n",
    "\n",
    "Features:\n",
    "\n",
    "* age:              \n",
    "age in years\n",
    "\n",
    "* sex:              \n",
    "sex assigned at birth (binary 'male' or 'female')\n",
    "\n",
    "* trestbps:         \n",
    "resting blood pressure (mm Hg)\n",
    "\n",
    "* chol:             \n",
    "serum cholesterol in mg/dL\n",
    "\n",
    "* cp:               \n",
    "chest pain ('typical angina', 'atypical angina', 'non-anginal pain', 'asymptomatic')\n",
    "\n",
    "* exang:            \n",
    "patient experiences exercise angina (binary 1 for yes, 0 for no)\n",
    "\n",
    "* fbs:              \n",
    "fasting blood sugar > 120 mg/dL (binary 1 for yes, 0 for no)\n",
    "\n",
    "* thalach:          \n",
    "maximum heart rate achieved in exercise test\n",
    "\n",
    "* heart_disease:    \n",
    "heart disease presence in patient (binary \"presence\" or \"absence\")"
   ]
  },
  {
   "cell_type": "code",
   "execution_count": 48,
   "metadata": {},
   "outputs": [
    {
     "name": "stdout",
     "output_type": "stream",
     "text": [
      "    age     sex  trestbps   chol                cp  exang  fbs  thalach  \\\n",
      "0  63.0    male     145.0  233.0    typical angina    0.0  1.0    150.0   \n",
      "1  67.0    male     160.0  286.0      asymptomatic    1.0  0.0    108.0   \n",
      "2  67.0    male     120.0  229.0      asymptomatic    1.0  0.0    129.0   \n",
      "3  37.0    male     130.0  250.0  non-anginal pain    0.0  0.0    187.0   \n",
      "4  41.0  female     130.0  204.0   atypical angina    0.0  0.0    172.0   \n",
      "\n",
      "  heart_disease  \n",
      "0       absence  \n",
      "1      presence  \n",
      "2      presence  \n",
      "3       absence  \n",
      "4       absence  \n"
     ]
    }
   ],
   "source": [
    "# load data\n",
    "heart = pd.read_csv('heart_disease.csv')\n",
    "\n",
    "# inspect heart dataframe\n",
    "print(heart.head())"
   ]
  },
  {
   "cell_type": "markdown",
   "metadata": {},
   "source": [
    "#### is a patient's maximum heart rate in their exercise test associated with their heart disease diagnosis?"
   ]
  },
  {
   "cell_type": "code",
   "execution_count": 49,
   "metadata": {},
   "outputs": [
    {
     "data": {
      "image/png": "[encoded data removed]",
      "text/plain": [
       "<Figure size 432x288 with 1 Axes>"
      ]
     },
     "metadata": {
      "needs_background": "light"
     },
     "output_type": "display_data"
    },
    {
     "name": "stdout",
     "output_type": "stream",
     "text": [
      "Difference in Mean Max Heart Rate: 19.12\n",
      "Difference in Median Max Heart Rate: 19.0\n"
     ]
    },
    {
     "data": {
      "text/plain": [
       "<Figure size 432x288 with 0 Axes>"
      ]
     },
     "metadata": {},
     "output_type": "display_data"
    }
   ],
   "source": [
    "sns.boxplot(x=heart.heart_disease, y=heart.thalach, data=heart, hue=heart.heart_disease)\n",
    "plt.show()\n",
    "plt.clf()\n",
    "\n",
    "thalach_hd = heart.thalach[heart.heart_disease == 'presence']\n",
    "thalach_no_hd = heart.thalach[heart.heart_disease == 'absence']\n",
    "\n",
    "diff_thalach_means = round(thalach_no_hd.mean() - thalach_hd.mean(), 2)\n",
    "diff_thalach_medians = thalach_no_hd.median() - thalach_hd.median()\n",
    "\n",
    "print(f\"Difference in Mean Max Heart Rate: {diff_thalach_means}\")\n",
    "print(f\"Difference in Median Max Heart Rate: {diff_thalach_medians}\")"
   ]
  },
  {
   "cell_type": "code",
   "execution_count": 50,
   "metadata": {},
   "outputs": [
    {
     "name": "stdout",
     "output_type": "stream",
     "text": [
      "alpha: 0.05\n",
      "p-value: 3.456964908430172e-14\n"
     ]
    }
   ],
   "source": [
    "tstat, pval = ttest_ind(thalach_hd, thalach_no_hd)\n",
    "print(f\"alpha: 0.05\")\n",
    "print(f\"p-value: {pval}\")"
   ]
  },
  {
   "cell_type": "markdown",
   "metadata": {},
   "source": [
    "There is a statistically significant difference between the maximum heart rate achieved during the exercise examination of patients with and without heart disease. Those without heart disease have a significantly higher maximum BPM during the examination than those who do have heart disease."
   ]
  },
  {
   "cell_type": "markdown",
   "metadata": {},
   "source": [
    "#### Is the average age of heart disease patients significantly different from that of patients without heart disease?"
   ]
  },
  {
   "cell_type": "code",
   "execution_count": 51,
   "metadata": {},
   "outputs": [
    {
     "data": {
      "image/png": "[encoded data removed]",
      "text/plain": [
       "<Figure size 432x288 with 1 Axes>"
      ]
     },
     "metadata": {
      "needs_background": "light"
     },
     "output_type": "display_data"
    },
    {
     "name": "stdout",
     "output_type": "stream",
     "text": [
      "Mean Age of Heart Disease Patients:     56.62589928057554\n",
      "Mean Age of non-Heart Disease Patients:     52.58536585365854\n",
      "alpha: 0.05\n",
      "p-value: 8.955636917529706e-05\n"
     ]
    },
    {
     "data": {
      "text/plain": [
       "<Figure size 432x288 with 0 Axes>"
      ]
     },
     "metadata": {},
     "output_type": "display_data"
    }
   ],
   "source": [
    "sns.boxplot(x=heart.heart_disease, y=heart.age, data=heart, hue=heart.heart_disease)\n",
    "plt.show()\n",
    "plt.clf()\n",
    "\n",
    "age_hd = heart.age[heart['heart_disease'] == 'presence']\n",
    "age_no_hd = heart.age[heart['heart_disease'] == 'absence']\n",
    "\n",
    "print(f\"Mean Age of Heart Disease Patients:     {age_hd.mean()}\")\n",
    "print(f\"Mean Age of non-Heart Disease Patients:     {age_no_hd.mean()}\")\n",
    "\n",
    "ttest, pval = ttest_ind(age_hd, age_no_hd)\n",
    "print(f\"alpha: 0.05\")\n",
    "print(f\"p-value: {pval}\")"
   ]
  },
  {
   "cell_type": "markdown",
   "metadata": {},
   "source": [
    "There is a statistically significant difference in mean age between patients who have, and patients who do not have, heart disease. Patients with heart disease are typically older than those who do not have heart disease."
   ]
  },
  {
   "cell_type": "markdown",
   "metadata": {},
   "source": [
    "#### Is the average resting blood pressure (in mm Hg) of heart disease patients significantly different than that of patients without heart disease?"
   ]
  },
  {
   "cell_type": "code",
   "execution_count": 52,
   "metadata": {},
   "outputs": [
    {
     "data": {
      "image/png": "[encoded data removed]",
      "text/plain": [
       "<Figure size 432x288 with 1 Axes>"
      ]
     },
     "metadata": {
      "needs_background": "light"
     },
     "output_type": "display_data"
    },
    {
     "name": "stdout",
     "output_type": "stream",
     "text": [
      "alpha: 0.05\n",
      "p-value: 0.008548268928594928\n"
     ]
    },
    {
     "data": {
      "text/plain": [
       "<Figure size 432x288 with 0 Axes>"
      ]
     },
     "metadata": {},
     "output_type": "display_data"
    }
   ],
   "source": [
    "sns.boxplot(x=heart.heart_disease, y=heart.trestbps, data=heart, hue=heart.heart_disease)\n",
    "plt.show()\n",
    "plt.clf()\n",
    "\n",
    "trestbps_hd = heart.trestbps[heart['heart_disease'] == 'presence']\n",
    "trestbps_no_hd = heart.trestbps[heart['heart_disease'] == 'absence']\n",
    "\n",
    "ttest, pval = ttest_ind(trestbps_hd, trestbps_no_hd)\n",
    "print(f\"alpha: 0.05\")\n",
    "print(f\"p-value: {pval}\")"
   ]
  },
  {
   "cell_type": "markdown",
   "metadata": {},
   "source": [
    "There is a statistically significant difference in resting blood pressure between patients who have heart disease and those who do not. Patients with heart disease have significantly higher blood pressure, on average, than do those without heart disease."
   ]
  },
  {
   "cell_type": "markdown",
   "metadata": {},
   "source": [
    "#### is the average cholesterol of heart disease patients significantly different from that of non-heart disease patients?\n"
   ]
  },
  {
   "cell_type": "code",
   "execution_count": 53,
   "metadata": {},
   "outputs": [
    {
     "data": {
      "image/png": "[encoded data removed]",
      "text/plain": [
       "<Figure size 432x288 with 1 Axes>"
      ]
     },
     "metadata": {
      "needs_background": "light"
     },
     "output_type": "display_data"
    },
    {
     "name": "stdout",
     "output_type": "stream",
     "text": [
      "alpha: 0.05\n",
      "p-value: 0.13914167020436527\n"
     ]
    },
    {
     "data": {
      "text/plain": [
       "<Figure size 432x288 with 0 Axes>"
      ]
     },
     "metadata": {},
     "output_type": "display_data"
    }
   ],
   "source": [
    "sns.boxplot(x=heart.heart_disease, y=heart.chol, data=heart, hue=heart.heart_disease)\n",
    "plt.show()\n",
    "plt.clf()\n",
    "\n",
    "chol_hd = heart.chol[heart['heart_disease'] == 'presence']\n",
    "chol_no_hd = heart.chol[heart['heart_disease'] == 'absence']\n",
    "\n",
    "ttest, pval = ttest_ind(chol_hd, chol_no_hd)\n",
    "print(\"alpha: 0.05\")\n",
    "print(f\"p-value: {pval}\")"
   ]
  },
  {
   "cell_type": "markdown",
   "metadata": {},
   "source": [
    "There is no statistically significant difference between average cholesterol of heart disease patients and patients without heart disease."
   ]
  },
  {
   "cell_type": "markdown",
   "metadata": {},
   "source": [
    "#### What are the distributions of exercise exam maximum heart rate levels between patients for each type of chest pain experienced?"
   ]
  },
  {
   "cell_type": "code",
   "execution_count": 54,
   "metadata": {},
   "outputs": [
    {
     "data": {
      "image/png": "[encoded data removed]",
      "text/plain": [
       "<Figure size 432x288 with 1 Axes>"
      ]
     },
     "metadata": {
      "needs_background": "light"
     },
     "output_type": "display_data"
    },
    {
     "data": {
      "text/plain": [
       "<Figure size 432x288 with 0 Axes>"
      ]
     },
     "metadata": {},
     "output_type": "display_data"
    }
   ],
   "source": [
    "sns.boxplot(x=heart.cp, y=heart.thalach)\n",
    "plt.show()\n",
    "plt.clf()"
   ]
  },
  {
   "cell_type": "markdown",
   "metadata": {},
   "source": [
    "#### Do patients with typical angina, non-anginal pain, atypical angina and chest-pain asymptomatic all have the same, or significantly different average maximum heart rate during their exercise exams?\n"
   ]
  },
  {
   "cell_type": "code",
   "execution_count": 55,
   "metadata": {},
   "outputs": [
    {
     "name": "stdout",
     "output_type": "stream",
     "text": [
      "alpha: 0.05\n",
      "p-value: 1.9065505247705008e-10\n"
     ]
    }
   ],
   "source": [
    "thalach_typical = heart.thalach[heart['cp'] == 'typical angina']\n",
    "thalach_asymptom = heart.thalach[heart['cp'] == 'asymptomatic']\n",
    "thalach_nonangin = heart.thalach[heart['cp'] == 'non-anginal pain']\n",
    "thalach_atypical = heart.thalach[heart['cp'] == 'atypical angina']\n",
    "\n",
    "fstat, pval = f_oneway(thalach_typical, thalach_asymptom, thalach_nonangin, thalach_atypical)\n",
    "print(\"alpha: 0.05\")\n",
    "print(f\"p-value: {pval}\")"
   ]
  },
  {
   "cell_type": "code",
   "execution_count": 56,
   "metadata": {},
   "outputs": [
    {
     "name": "stdout",
     "output_type": "stream",
     "text": [
      "           Multiple Comparison of Means - Tukey HSD, FWER=0.05           \n",
      "=========================================================================\n",
      "     group1           group2      meandiff p-adj   lower    upper  reject\n",
      "-------------------------------------------------------------------------\n",
      "    asymptomatic  atypical angina  21.7394    0.0  12.7442 30.7347   True\n",
      "    asymptomatic non-anginal pain  14.7264    0.0   7.2583 22.1945   True\n",
      "    asymptomatic   typical angina   15.276 0.0081   2.9707 27.5812   True\n",
      " atypical angina non-anginal pain   -7.013 0.2481 -16.7587  2.7327  False\n",
      " atypical angina   typical angina  -6.4635 0.6213 -20.2702  7.3432  False\n",
      "non-anginal pain   typical angina   0.5495 0.9995 -12.3145 13.4136  False\n",
      "-------------------------------------------------------------------------\n"
     ]
    }
   ],
   "source": [
    "# which pairs of thalach and chest pain are significantly different?\n",
    "\n",
    "tukey_results = pairwise_tukeyhsd(heart.thalach, heart.cp, alpha=0.05)\n",
    "print(tukey_results)"
   ]
  },
  {
   "cell_type": "markdown",
   "metadata": {},
   "source": [
    "Asymptomatic patients have statistically significant lower heart rates compared with patients experiencing atypical angina, non-anginal chest pain, and typical angina."
   ]
  },
  {
   "cell_type": "markdown",
   "metadata": {},
   "source": [
    "#### Is there a statistical association between the kind of chest pain a patient experiences and whether or not they have heart disease?"
   ]
  },
  {
   "cell_type": "code",
   "execution_count": 57,
   "metadata": {},
   "outputs": [
    {
     "name": "stdout",
     "output_type": "stream",
     "text": [
      "heart_disease     absence  presence\n",
      "cp                                 \n",
      "asymptomatic           39       105\n",
      "atypical angina        41         9\n",
      "non-anginal pain       68        18\n",
      "typical angina         16         7\n"
     ]
    }
   ],
   "source": [
    "Xtab = pd.crosstab(heart.cp, heart.heart_disease)\n",
    "print(Xtab)"
   ]
  },
  {
   "cell_type": "code",
   "execution_count": 58,
   "metadata": {},
   "outputs": [
    {
     "name": "stdout",
     "output_type": "stream",
     "text": [
      "alpha: 0.05\n",
      "p-value: 1.2517106007837527e-17\n"
     ]
    }
   ],
   "source": [
    "chi2, pval, dof, expected = chi2_contingency(Xtab)\n",
    "print(\"alpha: 0.05\")\n",
    "print(f\"p-value: {pval}\")"
   ]
  },
  {
   "cell_type": "markdown",
   "metadata": {},
   "source": [
    "There is in fact a statistically significant relationship between the type of chest pain that a patient experiences, and whether or not that patient has heart disease. "
   ]
  }
 ],
 "metadata": {
  "kernelspec": {
   "display_name": "base",
   "language": "python",
   "name": "python3"
  },
  "language_info": {
   "codemirror_mode": {
    "name": "ipython",
    "version": 3
   },
   "file_extension": ".py",
   "mimetype": "text/x-python",
   "name": "python",
   "nbconvert_exporter": "python",
   "pygments_lexer": "ipython3",
   "version": "3.9.12"
  }
 },
 "nbformat": 4,
 "nbformat_minor": 2
}
