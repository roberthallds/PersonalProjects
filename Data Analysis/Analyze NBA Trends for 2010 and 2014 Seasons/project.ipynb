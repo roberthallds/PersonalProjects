{
 "cells": [
  {
   "cell_type": "markdown",
   "metadata": {},
   "source": [
    "## Analyze NBA Trends for 2010 and 2014 seasons\n",
    "\n",
    "A practice project for my Codecademy professional certification in Data Science and ML Engineering\n",
    "\n",
    "538 Data for Reference:\n",
    "https://github.com/fivethirtyeight/data/tree/master/nba-elo \n",
    "\n",
    "Robert Hall 01/04/2024"
   ]
  },
  {
   "cell_type": "code",
   "execution_count": 33,
   "metadata": {},
   "outputs": [],
   "source": [
    "# import libraries\n",
    "import numpy as np \n",
    "import pandas as pd \n",
    "import matplotlib.pyplot as plt\n",
    "import seaborn as sns \n",
    "from scipy.stats import pearsonr, chi2_contingency "
   ]
  },
  {
   "cell_type": "code",
   "execution_count": 34,
   "metadata": {},
   "outputs": [],
   "source": [
    "# read-in data file\n",
    "nba = pd.read_csv('nba_games.csv')"
   ]
  },
  {
   "cell_type": "code",
   "execution_count": 35,
   "metadata": {},
   "outputs": [],
   "source": [
    "# create new dataframes for seasons 2010 and 2014\n",
    "nba_2010 = nba[nba.year_id == 2010]\n",
    "nba_2014 = nba[nba.year_id == 2014]"
   ]
  },
  {
   "cell_type": "markdown",
   "metadata": {},
   "source": [
    "Step 1: \n",
    "\n",
    "Compare knicks games to those of the nets, with respect to the amount of points earned per game. Create two Series; one for the points of each game the Knicks played in 2010, and another for the points of each game the Nets played in 2010."
   ]
  },
  {
   "cell_type": "code",
   "execution_count": 36,
   "metadata": {},
   "outputs": [],
   "source": [
    "knicks_pts_10 = nba_2010.pts[nba_2010.fran_id == 'Knicks']\n",
    "nets_pts_10 = nba_2010.pts[nba_2010.fran_id == 'Nets']"
   ]
  },
  {
   "cell_type": "code",
   "execution_count": 37,
   "metadata": {},
   "outputs": [
    {
     "name": "stdout",
     "output_type": "stream",
     "text": [
      "21719     93\n",
      "21725    100\n",
      "21728    127\n",
      "21734    117\n",
      "21739     89\n",
      "Name: pts, dtype: int64\n"
     ]
    }
   ],
   "source": [
    "print(knicks_pts_10.head())"
   ]
  },
  {
   "cell_type": "code",
   "execution_count": 38,
   "metadata": {},
   "outputs": [
    {
     "name": "stdout",
     "output_type": "stream",
     "text": [
      "21720     93\n",
      "21727     85\n",
      "21730    104\n",
      "21733     68\n",
      "21738     94\n",
      "Name: pts, dtype: int64\n"
     ]
    }
   ],
   "source": [
    "print(nets_pts_10.head())"
   ]
  },
  {
   "cell_type": "markdown",
   "metadata": {},
   "source": [
    "Step 2:\n",
    "\n",
    "Calculate the difference between the teams average points scored. Does one team appear to be associated with higher score average?"
   ]
  },
  {
   "cell_type": "code",
   "execution_count": 39,
   "metadata": {},
   "outputs": [],
   "source": [
    "knicks_mean_score = round(np.mean(knicks_pts_10), 2)\n",
    "nets_mean_score = round(np.mean(nets_pts_10), 2)\n",
    "diff_means_2010 = round(abs(knicks_mean_score - nets_mean_score), 2)"
   ]
  },
  {
   "cell_type": "code",
   "execution_count": 40,
   "metadata": {},
   "outputs": [
    {
     "name": "stdout",
     "output_type": "stream",
     "text": [
      "Knicks Average Score 2010:           102.11\n",
      "Nets Average Score 2010:             92.38\n",
      "Difference in Average Scores 2010:   9.73\n"
     ]
    }
   ],
   "source": [
    "print(\"Knicks Average Score 2010:           \" + str(knicks_mean_score))\n",
    "print(\"Nets Average Score 2010:             \" + str(nets_mean_score))\n",
    "print(\"Difference in Average Scores 2010:   \"+ str(diff_means_2010))"
   ]
  },
  {
   "cell_type": "markdown",
   "metadata": {},
   "source": [
    "Step 3:\n",
    "\n",
    "Create an overlapping histogram plot to visualize the difference in score distributions between the two teams during the 2010 season."
   ]
  },
  {
   "cell_type": "code",
   "execution_count": 41,
   "metadata": {},
   "outputs": [
    {
     "data": {
      "image/png": "[encoded data removed]",
      "text/plain": [
       "<Figure size 432x288 with 1 Axes>"
      ]
     },
     "metadata": {
      "needs_background": "light"
     },
     "output_type": "display_data"
    },
    {
     "data": {
      "text/plain": [
       "<Figure size 432x288 with 0 Axes>"
      ]
     },
     "metadata": {},
     "output_type": "display_data"
    }
   ],
   "source": [
    "plt.hist(knicks_pts_10, \n",
    "         alpha=0.8, \n",
    "         label='Knicks')\n",
    "plt.hist(nets_pts_10, \n",
    "         alpha=0.8, \n",
    "         label='Nets')\n",
    "plt.legend()\n",
    "plt.title(\"Score Distributions, Knicks & Nets, for 2010 Season\")\n",
    "plt.show()\n",
    "plt.clf()"
   ]
  },
  {
   "cell_type": "markdown",
   "metadata": {},
   "source": [
    "Step 4: \n",
    "\n",
    "Compare knicks games to those of the nets, with respect to the amount of points earned per game. Create two Series; one for the points of each game the Knicks played in 2010, and another for the points of each game the Nets played in 2014."
   ]
  },
  {
   "cell_type": "code",
   "execution_count": 42,
   "metadata": {},
   "outputs": [],
   "source": [
    "knicks_pts_14 = nba_2014.pts[nba_2014.fran_id == 'Knicks']\n",
    "nets_pts_14 = nba_2014.pts[nba_2014.fran_id == 'Nets']"
   ]
  },
  {
   "cell_type": "code",
   "execution_count": 43,
   "metadata": {},
   "outputs": [
    {
     "name": "stdout",
     "output_type": "stream",
     "text": [
      "23469     90\n",
      "23473     81\n",
      "23480    100\n",
      "23486     97\n",
      "23490    101\n",
      "Name: pts, dtype: int64\n"
     ]
    }
   ],
   "source": [
    "print(knicks_pts_14.head())"
   ]
  },
  {
   "cell_type": "code",
   "execution_count": 44,
   "metadata": {},
   "outputs": [
    {
     "name": "stdout",
     "output_type": "stream",
     "text": [
      "23468     94\n",
      "23475    101\n",
      "23482     86\n",
      "23484    104\n",
      "23494    108\n",
      "Name: pts, dtype: int64\n"
     ]
    }
   ],
   "source": [
    "print(nets_pts_14.head())"
   ]
  },
  {
   "cell_type": "markdown",
   "metadata": {},
   "source": [
    "Step 5:\n",
    "\n",
    "Calculate the difference between the teams average points scored during 2014. Does one team appear to be associated with higher score average?"
   ]
  },
  {
   "cell_type": "code",
   "execution_count": 45,
   "metadata": {},
   "outputs": [],
   "source": [
    "knicks_mean_score_14 = round(np.mean(knicks_pts_14), 2)\n",
    "nets_mean_score_14 = round(np.mean(nets_pts_14), 2)\n",
    "diff_means_2014 = round(abs(knicks_mean_score_14 - nets_mean_score_14), 2)"
   ]
  },
  {
   "cell_type": "code",
   "execution_count": 46,
   "metadata": {},
   "outputs": [
    {
     "name": "stdout",
     "output_type": "stream",
     "text": [
      "Knicks Average Score 2014:           98.59\n",
      "Nets Average Score 2014:             98.14\n",
      "Average Difference in Score 2014:    0.45\n"
     ]
    }
   ],
   "source": [
    "print(\"Knicks Average Score 2014:           \" + str(knicks_mean_score_14))\n",
    "print(\"Nets Average Score 2014:             \" + str(nets_mean_score_14))\n",
    "print(\"Average Difference in Score 2014:    \" + str(diff_means_2014))"
   ]
  },
  {
   "cell_type": "markdown",
   "metadata": {},
   "source": [
    "Step 6:\n",
    "\n",
    "Create an overlapping histogram plot to visualize the difference in score distributions between the two teams during the 2014 season."
   ]
  },
  {
   "cell_type": "code",
   "execution_count": 47,
   "metadata": {},
   "outputs": [
    {
     "data": {
      "image/png": "[encoded data removed]",
      "text/plain": [
       "<Figure size 432x288 with 1 Axes>"
      ]
     },
     "metadata": {
      "needs_background": "light"
     },
     "output_type": "display_data"
    },
    {
     "data": {
      "text/plain": [
       "<Figure size 432x288 with 0 Axes>"
      ]
     },
     "metadata": {},
     "output_type": "display_data"
    }
   ],
   "source": [
    "plt.hist(knicks_pts_14, \n",
    "         alpha=0.8, \n",
    "         label='Knicks')\n",
    "plt.hist(nets_pts_14, \n",
    "         alpha=0.8, \n",
    "         label='Nets')\n",
    "plt.legend()\n",
    "plt.title(\"Score Distributions, Knicks & Nets, for 2014 Season\")\n",
    "plt.show()\n",
    "plt.clf()"
   ]
  },
  {
   "cell_type": "markdown",
   "metadata": {},
   "source": [
    "Step 7: \n",
    "\n",
    "Generate side-by-side boxplots to visualize the distribution of points scored between the Knicks and the Nets in the 2010 season.\n"
   ]
  },
  {
   "cell_type": "code",
   "execution_count": 48,
   "metadata": {},
   "outputs": [
    {
     "data": {
      "image/png": "[encoded data removed]",
      "text/plain": [
       "<Figure size 432x288 with 1 Axes>"
      ]
     },
     "metadata": {
      "needs_background": "light"
     },
     "output_type": "display_data"
    },
    {
     "data": {
      "text/plain": [
       "<Figure size 432x288 with 0 Axes>"
      ]
     },
     "metadata": {},
     "output_type": "display_data"
    }
   ],
   "source": [
    "sns.boxplot(data=nba_2010, \n",
    "            x='fran_id', \n",
    "            y='pts')\n",
    "plt.xlabel(\"Franchise\")\n",
    "plt.ylabel(\"Points\")\n",
    "plt.show()\n",
    "plt.clf()"
   ]
  },
  {
   "cell_type": "markdown",
   "metadata": {},
   "source": [
    "Step 8:\n",
    "\n",
    "Calculate a contingency table of frequencies to examine the relationship, if any, and determine whether teams tend to win more home or away games."
   ]
  },
  {
   "cell_type": "code",
   "execution_count": 49,
   "metadata": {},
   "outputs": [
    {
     "name": "stdout",
     "output_type": "stream",
     "text": [
      "game_location    A    H\n",
      "game_result            \n",
      "L              133  105\n",
      "W               92  120\n"
     ]
    },
    {
     "data": {
      "text/plain": [
       "' \\nIt appears that there are more losses overall at away-games,\\nand slightly more wins at home games.\\n'"
      ]
     },
     "execution_count": 49,
     "metadata": {},
     "output_type": "execute_result"
    }
   ],
   "source": [
    "location_result_freq = pd.crosstab(nba_2010.game_result, \n",
    "                                   nba_2010.game_location)\n",
    "print(location_result_freq)\n",
    "\n",
    "''' \n",
    "It appears that there are more losses overall at away-games,\n",
    "and slightly more wins at home games.\n",
    "'''"
   ]
  },
  {
   "cell_type": "markdown",
   "metadata": {},
   "source": [
    "Step 9: \n",
    "\n",
    "Convert the above contingency table to a table of proportions."
   ]
  },
  {
   "cell_type": "code",
   "execution_count": 50,
   "metadata": {},
   "outputs": [
    {
     "name": "stdout",
     "output_type": "stream",
     "text": [
      "game_location    A     H\n",
      "game_result             \n",
      "L              0.3  0.23\n",
      "W              0.2  0.27\n"
     ]
    }
   ],
   "source": [
    "location_results_props = round(location_result_freq / len(nba_2010), 2)\n",
    "print(location_results_props)"
   ]
  },
  {
   "cell_type": "markdown",
   "metadata": {},
   "source": [
    "Step 10:\n",
    "\n",
    "Calculate expected contingency table and Chi-square statistic for home versus away games, and the game results."
   ]
  },
  {
   "cell_type": "code",
   "execution_count": 51,
   "metadata": {},
   "outputs": [],
   "source": [
    "chi2, pval, dof, expected = chi2_contingency(location_result_freq)"
   ]
  },
  {
   "cell_type": "code",
   "execution_count": 52,
   "metadata": {},
   "outputs": [
    {
     "name": "stdout",
     "output_type": "stream",
     "text": [
      "Expected Values: \n",
      "\n",
      "[[119. 119.]\n",
      " [106. 106.]] \n",
      "\n",
      "Chi-Square Statistic:       6.501704455367053\n"
     ]
    }
   ],
   "source": [
    "print(\"Expected Values: \\n\")\n",
    "print(expected, '\\n')\n",
    "\n",
    "print(f\"Chi-Square Statistic:       {chi2}\")"
   ]
  },
  {
   "cell_type": "markdown",
   "metadata": {},
   "source": [
    "Step 11:\n",
    "\n",
    "Determine whether or not teams with a higher probability of winning (according to 538) also tend to win more points."
   ]
  },
  {
   "cell_type": "code",
   "execution_count": 53,
   "metadata": {},
   "outputs": [
    {
     "name": "stdout",
     "output_type": "stream",
     "text": [
      "[[5.22668307e-02 1.37461257e+00]\n",
      " [1.37461257e+00 1.86559287e+02]]\n"
     ]
    }
   ],
   "source": [
    "point_diff_forecast_cov = np.cov(nba_2010.forecast, nba_2010.point_diff)\n",
    "print(point_diff_forecast_cov)"
   ]
  },
  {
   "cell_type": "markdown",
   "metadata": {},
   "source": [
    "Step 12:\n",
    "\n",
    "Calculate the correlation coefficient between the forecasted win probability and the point differentials. Then, generate a scatterplot to visualize the relationship between the two variables."
   ]
  },
  {
   "cell_type": "code",
   "execution_count": 54,
   "metadata": {},
   "outputs": [
    {
     "name": "stdout",
     "output_type": "stream",
     "text": [
      "(0.44020887084680815, 9.410391573138826e-23)\n"
     ]
    }
   ],
   "source": [
    "point_diff_forecast_corr = pearsonr(nba_2010.forecast,\n",
    "                                    nba_2010.point_diff)\n",
    "print(point_diff_forecast_corr)"
   ]
  },
  {
   "cell_type": "code",
   "execution_count": 55,
   "metadata": {},
   "outputs": [
    {
     "data": {
      "image/png": "[encoded data removed]",
      "text/plain": [
       "<Figure size 432x288 with 1 Axes>"
      ]
     },
     "metadata": {
      "needs_background": "light"
     },
     "output_type": "display_data"
    },
    {
     "data": {
      "text/plain": [
       "<Figure size 432x288 with 0 Axes>"
      ]
     },
     "metadata": {},
     "output_type": "display_data"
    }
   ],
   "source": [
    "plt.scatter('forecast', \n",
    "            'point_diff', \n",
    "            data=nba_2010)\n",
    "plt.xlabel('Forecasted Win Probability')\n",
    "plt.ylabel('Point Differential')\n",
    "plt.show()\n",
    "plt.clf()"
   ]
  }
 ],
 "metadata": {
  "kernelspec": {
   "display_name": "base",
   "language": "python",
   "name": "python3"
  },
  "language_info": {
   "codemirror_mode": {
    "name": "ipython",
    "version": 3
   },
   "file_extension": ".py",
   "mimetype": "text/x-python",
   "name": "python",
   "nbconvert_exporter": "python",
   "pygments_lexer": "ipython3",
   "version": "3.9.12"
  }
 },
 "nbformat": 4,
 "nbformat_minor": 2
}
