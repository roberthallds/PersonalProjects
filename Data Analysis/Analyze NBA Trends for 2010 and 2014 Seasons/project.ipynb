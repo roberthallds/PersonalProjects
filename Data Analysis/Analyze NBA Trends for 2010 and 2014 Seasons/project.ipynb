{
 "cells": [
  {
   "cell_type": "markdown",
   "metadata": {},
   "source": [
    "## Analyze NBA Trends for 2010 and 2014 seasons\n",
    "\n",
    "A practice project for my Codecademy professional certification in Data Science and ML Engineering\n",
    "\n",
    "Robert Hall 01/04/2024"
   ]
  },
  {
   "cell_type": "code",
   "execution_count": 1,
   "metadata": {},
   "outputs": [],
   "source": [
    "# import libraries\n",
    "import numpy as np \n",
    "import pandas as pd \n",
    "import matplotlib.pyplot as plt\n",
    "import seaborn as sns "
   ]
  },
  {
   "cell_type": "code",
   "execution_count": 2,
   "metadata": {},
   "outputs": [],
   "source": [
    "# read-in data file\n",
    "nba = pd.read_csv('nba_games.csv')"
   ]
  },
  {
   "cell_type": "code",
   "execution_count": 6,
   "metadata": {},
   "outputs": [],
   "source": [
    "# create new dataframes for seasons 2010 and 2014\n",
    "nba_2010 = nba[nba.year_id == 2010]\n",
    "nba_2014 = nba[nba.year_id == 2014]"
   ]
  },
  {
   "cell_type": "markdown",
   "metadata": {},
   "source": [
    "Step 1: \n",
    "\n",
    "Compare knicks games to those of the nets, with respect to the amount of points earned per game. Create two Series; one for the points of each game the Knicks played in 2010, and another for the points of each game the Nets played in 2010."
   ]
  },
  {
   "cell_type": "code",
   "execution_count": 7,
   "metadata": {},
   "outputs": [],
   "source": [
    "knicks_pts_10 = nba_2010.pts[nba_2010.fran_id == 'Knicks']\n",
    "nets_pts_10 = nba_2010.pts[nba_2010.fran_id == 'Nets']"
   ]
  },
  {
   "cell_type": "code",
   "execution_count": 8,
   "metadata": {},
   "outputs": [
    {
     "name": "stdout",
     "output_type": "stream",
     "text": [
      "21719     93\n",
      "21725    100\n",
      "21728    127\n",
      "21734    117\n",
      "21739     89\n",
      "Name: pts, dtype: int64\n"
     ]
    }
   ],
   "source": [
    "print(knicks_pts_10.head())"
   ]
  },
  {
   "cell_type": "code",
   "execution_count": 9,
   "metadata": {},
   "outputs": [
    {
     "name": "stdout",
     "output_type": "stream",
     "text": [
      "21720     93\n",
      "21727     85\n",
      "21730    104\n",
      "21733     68\n",
      "21738     94\n",
      "Name: pts, dtype: int64\n"
     ]
    }
   ],
   "source": [
    "print(nets_pts_10.head())"
   ]
  },
  {
   "cell_type": "markdown",
   "metadata": {},
   "source": [
    "Step 2:\n",
    "\n",
    "Calculate the difference between the teams average points scored. Does one team appear to be associated with higher score average?"
   ]
  },
  {
   "cell_type": "code",
   "execution_count": 10,
   "metadata": {},
   "outputs": [],
   "source": [
    "knicks_mean_score = round(np.mean(knicks_pts_10), 2)\n",
    "nets_mean_score = round(np.mean(nets_pts_10), 2)\n",
    "diff_means_2010 = round(abs(knicks_mean_score - nets_mean_score), 2)"
   ]
  },
  {
   "cell_type": "code",
   "execution_count": 13,
   "metadata": {},
   "outputs": [
    {
     "name": "stdout",
     "output_type": "stream",
     "text": [
      "Knicks Average Score 2010:           102.11\n",
      "Nets Average Score 2010:             92.38\n",
      "Difference in Average Scores 2010:   9.73\n"
     ]
    }
   ],
   "source": [
    "print(\"Knicks Average Score 2010:           \" + str(knicks_mean_score))\n",
    "print(\"Nets Average Score 2010:             \" + str(nets_mean_score))\n",
    "print(\"Difference in Average Scores 2010:   \"+ str(diff_means_2010))"
   ]
  },
  {
   "cell_type": "markdown",
   "metadata": {},
   "source": [
    "Step 3:\n",
    "\n",
    "Create an overlapping histogram plot to visualize the difference in score distributions between the two teams during the 2010 season."
   ]
  },
  {
   "cell_type": "code",
   "execution_count": 17,
   "metadata": {},
   "outputs": [
    {
     "data": {
      "image/png": "[encoded data removed]",
      "text/plain": [
       "<Figure size 432x288 with 1 Axes>"
      ]
     },
     "metadata": {
      "needs_background": "light"
     },
     "output_type": "display_data"
    },
    {
     "data": {
      "text/plain": [
       "<Figure size 432x288 with 0 Axes>"
      ]
     },
     "metadata": {},
     "output_type": "display_data"
    }
   ],
   "source": [
    "plt.hist(knicks_pts_10, \n",
    "         alpha=0.8, \n",
    "         label='Knicks')\n",
    "plt.hist(nets_pts_10, \n",
    "         alpha=0.8, \n",
    "         label='Nets')\n",
    "plt.legend()\n",
    "plt.title(\"Score Distributions, Knicks & Nets, for 2010 Season\")\n",
    "plt.show()\n",
    "plt.clf()"
   ]
  },
  {
   "cell_type": "markdown",
   "metadata": {},
   "source": [
    "Step 4: \n",
    "\n",
    "Compare knicks games to those of the nets, with respect to the amount of points earned per game. Create two Series; one for the points of each game the Knicks played in 2010, and another for the points of each game the Nets played in 2014."
   ]
  },
  {
   "cell_type": "code",
   "execution_count": 18,
   "metadata": {},
   "outputs": [],
   "source": [
    "knicks_pts_14 = nba_2014.pts[nba_2014.fran_id == 'Knicks']\n",
    "nets_pts_14 = nba_2014.pts[nba_2014.fran_id == 'Nets']"
   ]
  },
  {
   "cell_type": "code",
   "execution_count": 20,
   "metadata": {},
   "outputs": [
    {
     "name": "stdout",
     "output_type": "stream",
     "text": [
      "23469     90\n",
      "23473     81\n",
      "23480    100\n",
      "23486     97\n",
      "23490    101\n",
      "Name: pts, dtype: int64\n"
     ]
    }
   ],
   "source": [
    "print(knicks_pts_14.head())"
   ]
  },
  {
   "cell_type": "code",
   "execution_count": 21,
   "metadata": {},
   "outputs": [
    {
     "name": "stdout",
     "output_type": "stream",
     "text": [
      "23468     94\n",
      "23475    101\n",
      "23482     86\n",
      "23484    104\n",
      "23494    108\n",
      "Name: pts, dtype: int64\n"
     ]
    }
   ],
   "source": [
    "print(nets_pts_14.head())"
   ]
  },
  {
   "cell_type": "markdown",
   "metadata": {},
   "source": [
    "Step 5:\n",
    "\n",
    "Calculate the difference between the teams average points scored during 2014. Does one team appear to be associated with higher score average?"
   ]
  },
  {
   "cell_type": "code",
   "execution_count": 22,
   "metadata": {},
   "outputs": [],
   "source": [
    "knicks_mean_score_14 = round(np.mean(knicks_pts_14), 2)\n",
    "nets_mean_score_14 = round(np.mean(nets_pts_14), 2)\n",
    "diff_means_2014 = round(abs(knicks_mean_score_14 - nets_mean_score_14), 2)"
   ]
  },
  {
   "cell_type": "code",
   "execution_count": 24,
   "metadata": {},
   "outputs": [
    {
     "name": "stdout",
     "output_type": "stream",
     "text": [
      "Knicks Average Score 2014:           98.59\n",
      "Nets Average Score 2014:             98.14\n",
      "Average Difference in Score 2014:    0.45\n"
     ]
    }
   ],
   "source": [
    "print(\"Knicks Average Score 2014:           \" + str(knicks_mean_score_14))\n",
    "print(\"Nets Average Score 2014:             \" + str(nets_mean_score_14))\n",
    "print(\"Average Difference in Score 2014:    \" + str(diff_means_2014))"
   ]
  },
  {
   "cell_type": "markdown",
   "metadata": {},
   "source": [
    "Step 6:\n",
    "\n",
    "Create an overlapping histogram plot to visualize the difference in score distributions between the two teams during the 2014 season."
   ]
  },
  {
   "cell_type": "code",
   "execution_count": 25,
   "metadata": {},
   "outputs": [
    {
     "data": {
      "image/png": "[encoded data removed]",
      "text/plain": [
       "<Figure size 432x288 with 1 Axes>"
      ]
     },
     "metadata": {
      "needs_background": "light"
     },
     "output_type": "display_data"
    },
    {
     "data": {
      "text/plain": [
       "<Figure size 432x288 with 0 Axes>"
      ]
     },
     "metadata": {},
     "output_type": "display_data"
    }
   ],
   "source": [
    "plt.hist(knicks_pts_14, \n",
    "         alpha=0.8, \n",
    "         label='Knicks')\n",
    "plt.hist(nets_pts_14, \n",
    "         alpha=0.8, \n",
    "         label='Nets')\n",
    "plt.legend()\n",
    "plt.title(\"Score Distributions, Knicks & Nets, for 2014 Season\")\n",
    "plt.show()\n",
    "plt.clf()"
   ]
  },
  {
   "cell_type": "markdown",
   "metadata": {},
   "source": [
    "Step 7: \n",
    "\n",
    "Generate side-by-side boxplots to visualize the distribution of points scored between the Knicks and the Nets in the 2010 season.\n"
   ]
  },
  {
   "cell_type": "code",
   "execution_count": 26,
   "metadata": {},
   "outputs": [
    {
     "data": {
      "image/png": "[encoded data removed]",
      "text/plain": [
       "<Figure size 432x288 with 1 Axes>"
      ]
     },
     "metadata": {
      "needs_background": "light"
     },
     "output_type": "display_data"
    }
   ],
   "source": [
    "sns.boxplot(data=nba_2010, \n",
    "            x='fran_id', \n",
    "            y='pts')\n",
    "plt.xlabel(\"Franchise\")\n",
    "plt.ylabel(\"Points\")\n",
    "plt.show()"
   ]
  }
 ],
 "metadata": {
  "kernelspec": {
   "display_name": "base",
   "language": "python",
   "name": "python3"
  },
  "language_info": {
   "codemirror_mode": {
    "name": "ipython",
    "version": 3
   },
   "file_extension": ".py",
   "mimetype": "text/x-python",
   "name": "python",
   "nbconvert_exporter": "python",
   "pygments_lexer": "ipython3",
   "version": "3.9.12"
  }
 },
 "nbformat": 4,
 "nbformat_minor": 2
}
