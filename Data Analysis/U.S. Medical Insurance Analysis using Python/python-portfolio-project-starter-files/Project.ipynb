{
 "cells": [
  {
   "cell_type": "markdown",
   "metadata": {},
   "source": [
    "## U.S. Medical Insurance Costs\n",
    "For my Data Scientist + ML professional certification course on Codecademy\n",
    "\n",
    "Robert Hall 12/23/2023"
   ]
  },
  {
   "cell_type": "code",
   "execution_count": 2,
   "metadata": {},
   "outputs": [],
   "source": [
    "import csv\n",
    "import numpy as np\n",
    "import pandas as pd\n",
    "import matplotlib.pyplot as plt \n",
    "import statistics as st"
   ]
  },
  {
   "cell_type": "markdown",
   "metadata": {},
   "source": [
    "Step 1: Gather Basic Summary Statistics on the data\n",
    "\n",
    "1) Total number of patients (rows)\n",
    "2) Summary statistics on age, BMI, number of children, cost\n",
    "3) Proportions of patients who are male, female\n",
    "4) Proportions of patients who are smokers, non-smokers\n",
    "5) Proportions of patients who are from each region"
   ]
  },
  {
   "cell_type": "code",
   "execution_count": 3,
   "metadata": {},
   "outputs": [
    {
     "data": {
      "text/html": [
       "<div>\n",
       "<style scoped>\n",
       "    .dataframe tbody tr th:only-of-type {\n",
       "        vertical-align: middle;\n",
       "    }\n",
       "\n",
       "    .dataframe tbody tr th {\n",
       "        vertical-align: top;\n",
       "    }\n",
       "\n",
       "    .dataframe thead th {\n",
       "        text-align: right;\n",
       "    }\n",
       "</style>\n",
       "<table border=\"1\" class=\"dataframe\">\n",
       "  <thead>\n",
       "    <tr style=\"text-align: right;\">\n",
       "      <th></th>\n",
       "      <th>age</th>\n",
       "      <th>sex</th>\n",
       "      <th>bmi</th>\n",
       "      <th>children</th>\n",
       "      <th>smoker</th>\n",
       "      <th>region</th>\n",
       "      <th>charges</th>\n",
       "    </tr>\n",
       "  </thead>\n",
       "  <tbody>\n",
       "    <tr>\n",
       "      <th>0</th>\n",
       "      <td>19</td>\n",
       "      <td>female</td>\n",
       "      <td>27.900</td>\n",
       "      <td>0</td>\n",
       "      <td>yes</td>\n",
       "      <td>southwest</td>\n",
       "      <td>16884.92400</td>\n",
       "    </tr>\n",
       "    <tr>\n",
       "      <th>1</th>\n",
       "      <td>18</td>\n",
       "      <td>male</td>\n",
       "      <td>33.770</td>\n",
       "      <td>1</td>\n",
       "      <td>no</td>\n",
       "      <td>southeast</td>\n",
       "      <td>1725.55230</td>\n",
       "    </tr>\n",
       "    <tr>\n",
       "      <th>2</th>\n",
       "      <td>28</td>\n",
       "      <td>male</td>\n",
       "      <td>33.000</td>\n",
       "      <td>3</td>\n",
       "      <td>no</td>\n",
       "      <td>southeast</td>\n",
       "      <td>4449.46200</td>\n",
       "    </tr>\n",
       "    <tr>\n",
       "      <th>3</th>\n",
       "      <td>33</td>\n",
       "      <td>male</td>\n",
       "      <td>22.705</td>\n",
       "      <td>0</td>\n",
       "      <td>no</td>\n",
       "      <td>northwest</td>\n",
       "      <td>21984.47061</td>\n",
       "    </tr>\n",
       "    <tr>\n",
       "      <th>4</th>\n",
       "      <td>32</td>\n",
       "      <td>male</td>\n",
       "      <td>28.880</td>\n",
       "      <td>0</td>\n",
       "      <td>no</td>\n",
       "      <td>northwest</td>\n",
       "      <td>3866.85520</td>\n",
       "    </tr>\n",
       "  </tbody>\n",
       "</table>\n",
       "</div>"
      ],
      "text/plain": [
       "   age     sex     bmi  children smoker     region      charges\n",
       "0   19  female  27.900         0    yes  southwest  16884.92400\n",
       "1   18    male  33.770         1     no  southeast   1725.55230\n",
       "2   28    male  33.000         3     no  southeast   4449.46200\n",
       "3   33    male  22.705         0     no  northwest  21984.47061\n",
       "4   32    male  28.880         0     no  northwest   3866.85520"
      ]
     },
     "execution_count": 3,
     "metadata": {},
     "output_type": "execute_result"
    }
   ],
   "source": [
    "# import data and put into pandas dataframe, view head\n",
    "\n",
    "with open(\"insurance.csv\", 'r') as data:\n",
    "    data_csv = pd.read_csv(data)\n",
    "    df = pd.DataFrame(data_csv)\n",
    "\n",
    "df.head()"
   ]
  },
  {
   "cell_type": "code",
   "execution_count": 4,
   "metadata": {},
   "outputs": [
    {
     "name": "stdout",
     "output_type": "stream",
     "text": [
      "Number of Rows: 1338\n"
     ]
    }
   ],
   "source": [
    "# 1. Total number of patients (rows)\n",
    "\n",
    "rows = df.shape[0]\n",
    "\n",
    "print(\"Number of Rows: \" + str(rows))"
   ]
  },
  {
   "cell_type": "code",
   "execution_count": 5,
   "metadata": {},
   "outputs": [
    {
     "data": {
      "text/html": [
       "<div>\n",
       "<style scoped>\n",
       "    .dataframe tbody tr th:only-of-type {\n",
       "        vertical-align: middle;\n",
       "    }\n",
       "\n",
       "    .dataframe tbody tr th {\n",
       "        vertical-align: top;\n",
       "    }\n",
       "\n",
       "    .dataframe thead th {\n",
       "        text-align: right;\n",
       "    }\n",
       "</style>\n",
       "<table border=\"1\" class=\"dataframe\">\n",
       "  <thead>\n",
       "    <tr style=\"text-align: right;\">\n",
       "      <th></th>\n",
       "      <th>age</th>\n",
       "      <th>bmi</th>\n",
       "      <th>children</th>\n",
       "      <th>charges</th>\n",
       "    </tr>\n",
       "  </thead>\n",
       "  <tbody>\n",
       "    <tr>\n",
       "      <th>count</th>\n",
       "      <td>1338.000000</td>\n",
       "      <td>1338.000000</td>\n",
       "      <td>1338.000000</td>\n",
       "      <td>1338.000000</td>\n",
       "    </tr>\n",
       "    <tr>\n",
       "      <th>mean</th>\n",
       "      <td>39.207025</td>\n",
       "      <td>30.663397</td>\n",
       "      <td>1.094918</td>\n",
       "      <td>13270.422265</td>\n",
       "    </tr>\n",
       "    <tr>\n",
       "      <th>std</th>\n",
       "      <td>14.049960</td>\n",
       "      <td>6.098187</td>\n",
       "      <td>1.205493</td>\n",
       "      <td>12110.011237</td>\n",
       "    </tr>\n",
       "    <tr>\n",
       "      <th>min</th>\n",
       "      <td>18.000000</td>\n",
       "      <td>15.960000</td>\n",
       "      <td>0.000000</td>\n",
       "      <td>1121.873900</td>\n",
       "    </tr>\n",
       "    <tr>\n",
       "      <th>25%</th>\n",
       "      <td>27.000000</td>\n",
       "      <td>26.296250</td>\n",
       "      <td>0.000000</td>\n",
       "      <td>4740.287150</td>\n",
       "    </tr>\n",
       "    <tr>\n",
       "      <th>50%</th>\n",
       "      <td>39.000000</td>\n",
       "      <td>30.400000</td>\n",
       "      <td>1.000000</td>\n",
       "      <td>9382.033000</td>\n",
       "    </tr>\n",
       "    <tr>\n",
       "      <th>75%</th>\n",
       "      <td>51.000000</td>\n",
       "      <td>34.693750</td>\n",
       "      <td>2.000000</td>\n",
       "      <td>16639.912515</td>\n",
       "    </tr>\n",
       "    <tr>\n",
       "      <th>max</th>\n",
       "      <td>64.000000</td>\n",
       "      <td>53.130000</td>\n",
       "      <td>5.000000</td>\n",
       "      <td>63770.428010</td>\n",
       "    </tr>\n",
       "  </tbody>\n",
       "</table>\n",
       "</div>"
      ],
      "text/plain": [
       "               age          bmi     children       charges\n",
       "count  1338.000000  1338.000000  1338.000000   1338.000000\n",
       "mean     39.207025    30.663397     1.094918  13270.422265\n",
       "std      14.049960     6.098187     1.205493  12110.011237\n",
       "min      18.000000    15.960000     0.000000   1121.873900\n",
       "25%      27.000000    26.296250     0.000000   4740.287150\n",
       "50%      39.000000    30.400000     1.000000   9382.033000\n",
       "75%      51.000000    34.693750     2.000000  16639.912515\n",
       "max      64.000000    53.130000     5.000000  63770.428010"
      ]
     },
     "execution_count": 5,
     "metadata": {},
     "output_type": "execute_result"
    }
   ],
   "source": [
    "# 2. Summary statistics on age, BMI, number of children, cost\n",
    "\n",
    "df.describe()"
   ]
  },
  {
   "cell_type": "code",
   "execution_count": 6,
   "metadata": {},
   "outputs": [
    {
     "name": "stdout",
     "output_type": "stream",
     "text": [
      "Proportion of Males: 0.51\n",
      "Proportion of Females: 0.49\n",
      "\n",
      "\n",
      "No null values: True\n"
     ]
    }
   ],
   "source": [
    "# 3. Proportions of patients who are male, female\n",
    "\n",
    "# calculate numbers of males, females\n",
    "n_male = len(df[df['sex'] == 'male'])\n",
    "n_female = len(df[df['sex'] == 'female'])\n",
    "\n",
    "p_male = n_male / rows\n",
    "p_female = n_female / rows\n",
    "\n",
    "print(\"Proportion of Males: \" + str(round(p_male, 2)))\n",
    "print(\"Proportion of Females: \" + str(round(p_female, 2)))\n",
    "\n",
    "print('\\n')\n",
    "\n",
    "# verify that the number of males + number of females = the total number of rows\n",
    "print(\"No null values: \" + str(n_male + n_female == rows))\n"
   ]
  },
  {
   "cell_type": "code",
   "execution_count": 7,
   "metadata": {},
   "outputs": [
    {
     "name": "stdout",
     "output_type": "stream",
     "text": [
      "Proportion of Smokers: 0.2\n",
      "Proportion of Nonsmokers: 0.8\n",
      "\n",
      "\n",
      "No null values: True\n"
     ]
    }
   ],
   "source": [
    "# 4. Proportions of patients who are smokers, non-smokers\n",
    "\n",
    "n_smoker = len(df[df['smoker'] == 'yes'])\n",
    "n_nsmoker = len(df[df['smoker'] == 'no'])\n",
    "\n",
    "p_smoker = n_smoker / rows\n",
    "p_nsmoker = n_nsmoker / rows\n",
    "\n",
    "print(\"Proportion of Smokers: \" + str(round(p_smoker, 2)))\n",
    "print(\"Proportion of Nonsmokers: \" + str(round(p_nsmoker, 2)))\n",
    "\n",
    "print('\\n')\n",
    "\n",
    "print(\"No null values: \" + str(n_smoker + n_nsmoker == rows))"
   ]
  },
  {
   "cell_type": "markdown",
   "metadata": {},
   "source": [
    "Step 2:\n",
    "\n",
    "1) Find the difference between the cost of insurance for the average smoker, and that of the average non-smoker"
   ]
  },
  {
   "cell_type": "code",
   "execution_count": 8,
   "metadata": {},
   "outputs": [
    {
     "name": "stdout",
     "output_type": "stream",
     "text": [
      "Average insurance cost for smokers:          $32050.23\n",
      "Average insurance cost for non-smokers:      $8434.27\n",
      "\n",
      "\n",
      "One could save an average of $23615.96 in insurance costs by simply not smoking!\n"
     ]
    }
   ],
   "source": [
    "# 1. Find the difference between the cost of insurance for the average smoker, and that of the average non-smoker\n",
    "\n",
    "# create dataframes of all attributes of smokers and nonsmokers\n",
    "df_smokers = df[df['smoker'] == 'yes']\n",
    "df_nsmokers = df[df['smoker'] == 'no']\n",
    "\n",
    "# create dataframes of only charges for smokers and nonsmokers, respectively\n",
    "df_smoker_charges = df_smokers[['charges']]\n",
    "df_nsmoker_charges = df_nsmokers[['charges']]\n",
    "\n",
    "# find the mean costs for smokers and non-smokers\n",
    "mean_cost_smokers = np.array(df_smoker_charges.values.tolist()).flatten()\n",
    "mean_cost_smokers = round(st.mean(mean_cost_smokers), 2)\n",
    "\n",
    "mean_cost_nsmokers = np.array(df_nsmoker_charges.values.tolist()).flatten()\n",
    "mean_cost_nsmokers = round(st.mean(mean_cost_nsmokers), 2)\n",
    "\n",
    "# find average difference in cost for smokers versus nonsmokers\n",
    "\n",
    "mean_difference_nsmoke = mean_cost_smokers - mean_cost_nsmokers\n",
    "\n",
    "# print each cost, and print the difference in average cost\n",
    "print(\"Average insurance cost for smokers:          $\" + str(round(mean_cost_smokers, 2)))\n",
    "print(\"Average insurance cost for non-smokers:      $\" + str(round(mean_cost_nsmokers, 2)))\n",
    "print('\\n')\n",
    "print(f\"One could save an average of ${mean_difference_nsmoke} in insurance costs by simply not smoking!\")"
   ]
  }
 ],
 "metadata": {
  "kernelspec": {
   "display_name": "Python 3",
   "language": "python",
   "name": "python3"
  },
  "language_info": {
   "codemirror_mode": {
    "name": "ipython",
    "version": 3
   },
   "file_extension": ".py",
   "mimetype": "text/x-python",
   "name": "python",
   "nbconvert_exporter": "python",
   "pygments_lexer": "ipython3",
   "version": "3.9.12"
  }
 },
 "nbformat": 4,
 "nbformat_minor": 4
}
