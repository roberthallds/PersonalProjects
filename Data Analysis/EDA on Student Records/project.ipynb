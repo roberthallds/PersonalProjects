{
 "cells": [
  {
   "cell_type": "markdown",
   "metadata": {},
   "source": [
    "## Exploratory Data Analysis and Visualization on Student Records\n",
    "\n",
    "A practice project for my Codecademy professional certification in Data Science and ML Engineering\n",
    "\n",
    "Robert Hall 02/04/2024"
   ]
  },
  {
   "cell_type": "code",
   "execution_count": 2,
   "metadata": {},
   "outputs": [],
   "source": [
    "# import libraries\n",
    "\n",
    "import pandas as pd \n",
    "import numpy as np \n",
    "import matplotlib.pyplot as plt \n",
    "import seaborn as sns "
   ]
  },
  {
   "cell_type": "markdown",
   "metadata": {},
   "source": [
    "Step 1: Import dataset and view head"
   ]
  },
  {
   "cell_type": "code",
   "execution_count": 3,
   "metadata": {},
   "outputs": [
    {
     "name": "stdout",
     "output_type": "stream",
     "text": [
      "  address  absences     Mjob      Fjob  math_grade\n",
      "0       U         6  at_home   teacher           6\n",
      "1       U         4  at_home     other           6\n",
      "2       U        10  at_home     other          10\n",
      "3       U         2   health  services          15\n",
      "4       U         4    other     other          10\n"
     ]
    },
    {
     "data": {
      "text/plain": [
       "\" \\naddress: 'U' for urban, 'R' for Rural\\n\\nabsences: number of times student \\nwas absent during current school year\\n\\nMjob: student's mother's job industry\\n\\nFjob: student's father's job industry\\n\\nmath_grade: student's final grade in mathematics,\\nranges from 0-20\\n\\n\""
      ]
     },
     "execution_count": 3,
     "metadata": {},
     "output_type": "execute_result"
    }
   ],
   "source": [
    "students = pd.read_csv(\"students.csv\")\n",
    "print(students.head())\n",
    "\n",
    "\"\"\" \n",
    "address: 'U' for urban, 'R' for Rural\n",
    "\n",
    "absences: number of times student \n",
    "was absent during current school year\n",
    "\n",
    "Mjob: student's mother's job industry\n",
    "\n",
    "Fjob: student's father's job industry\n",
    "\n",
    "math_grade: student's final grade in mathematics,\n",
    "ranges from 0-20\n",
    "\n",
    "\"\"\""
   ]
  },
  {
   "cell_type": "markdown",
   "metadata": {},
   "source": [
    "Step 2: print summary statistics for all features of dataset\n",
    "\n",
    "do more students live in urban or rural locations?"
   ]
  },
  {
   "cell_type": "code",
   "execution_count": 4,
   "metadata": {},
   "outputs": [
    {
     "name": "stdout",
     "output_type": "stream",
     "text": [
      "       address    absences   Mjob   Fjob  math_grade\n",
      "count      395  395.000000    395    395  395.000000\n",
      "unique       2         NaN      5      5         NaN\n",
      "top          U         NaN  other  other         NaN\n",
      "freq       307         NaN    141    217         NaN\n",
      "mean       NaN    5.708861    NaN    NaN   10.415190\n",
      "std        NaN    8.003096    NaN    NaN    4.581443\n",
      "min        NaN    0.000000    NaN    NaN    0.000000\n",
      "25%        NaN    0.000000    NaN    NaN    8.000000\n",
      "50%        NaN    4.000000    NaN    NaN   11.000000\n",
      "75%        NaN    8.000000    NaN    NaN   14.000000\n",
      "max        NaN   75.000000    NaN    NaN   20.000000\n"
     ]
    }
   ],
   "source": [
    "print(students.describe(include='all'))\n",
    "\n",
    "# more students live in Urban locations, as the top\n",
    "# value under feature 'address' is 'U' which indicates\n",
    "# a rural living address"
   ]
  },
  {
   "cell_type": "markdown",
   "metadata": {},
   "source": [
    "Step 3: calculate and print the mean value of math grades\n",
    "for all students in the dataset"
   ]
  },
  {
   "cell_type": "code",
   "execution_count": 5,
   "metadata": {},
   "outputs": [
    {
     "name": "stdout",
     "output_type": "stream",
     "text": [
      "Mean Math Grade for All Students:    10\n"
     ]
    }
   ],
   "source": [
    "mean_math = round(students.math_grade.mean())\n",
    "print(f\"Mean Math Grade for All Students:    {mean_math}\")"
   ]
  },
  {
   "cell_type": "markdown",
   "metadata": {},
   "source": [
    "Step 4: calculate and print the median value of math grades for all students in the dataset"
   ]
  },
  {
   "cell_type": "code",
   "execution_count": 6,
   "metadata": {},
   "outputs": [
    {
     "name": "stdout",
     "output_type": "stream",
     "text": [
      "Median Math Grade for All Students:     11\n"
     ]
    }
   ],
   "source": [
    "median_math = round(students.math_grade.median())\n",
    "print(f\"Median Math Grade for All Students:     {median_math}\")"
   ]
  },
  {
   "cell_type": "markdown",
   "metadata": {},
   "source": [
    "Step 5: calculate and print the modal value(s) of math grades for all students in the dataset"
   ]
  },
  {
   "cell_type": "code",
   "execution_count": 7,
   "metadata": {},
   "outputs": [
    {
     "name": "stdout",
     "output_type": "stream",
     "text": [
      "Modal Values for All Students' Math Grades:     0    10\n",
      "Name: math_grade, dtype: int64\n"
     ]
    }
   ],
   "source": [
    "modes_math = round(students.math_grade.mode())\n",
    "print(f\"Modal Values for All Students' Math Grades:     {modes_math}\")"
   ]
  },
  {
   "cell_type": "markdown",
   "metadata": {},
   "source": [
    "Step 6: calculate and print the range of the math grades for all students in the dataset"
   ]
  },
  {
   "cell_type": "code",
   "execution_count": 8,
   "metadata": {},
   "outputs": [
    {
     "name": "stdout",
     "output_type": "stream",
     "text": [
      "Range of Math Grades, Lowest to Highest:     [0, 20]\n",
      "Difference between Maximal and Minial Grade:    20\n"
     ]
    }
   ],
   "source": [
    "range_maths_value = students.math_grade.max() - students.math_grade.min()\n",
    "range_maths_nums = [students.math_grade.min(), students.math_grade.max()]\n",
    "print(f\"Range of Math Grades, Lowest to Highest:     {range_maths_nums}\")\n",
    "print(f\"Difference between Maximal and Minial Grade:    {range_maths_value}\")\n"
   ]
  },
  {
   "cell_type": "markdown",
   "metadata": {},
   "source": [
    "Step 7: calculate and print the standard deviation of the math grades distribution among all recorded students"
   ]
  },
  {
   "cell_type": "code",
   "execution_count": 9,
   "metadata": {},
   "outputs": [
    {
     "name": "stdout",
     "output_type": "stream",
     "text": [
      "Standard Deviation of Student Math Grades:  approx. 4.58\n"
     ]
    }
   ],
   "source": [
    "std_math_grades = round(students.math_grade.std(), 2)\n",
    "print(f\"Standard Deviation of Student Math Grades:  approx. {std_math_grades}\")"
   ]
  },
  {
   "cell_type": "markdown",
   "metadata": {},
   "source": [
    "Step 8: calculate and print the mean absolute deviation of the math grades distribution among all recorded students"
   ]
  },
  {
   "cell_type": "code",
   "execution_count": 10,
   "metadata": {},
   "outputs": [
    {
     "name": "stdout",
     "output_type": "stream",
     "text": [
      "Mean Absolute Deviation of Student Math Grades:  3\n"
     ]
    }
   ],
   "source": [
    "mad_math_grades = round(students.math_grade.mad())\n",
    "print(f\"Mean Absolute Deviation of Student Math Grades:  {mad_math_grades}\")"
   ]
  },
  {
   "cell_type": "markdown",
   "metadata": {},
   "source": [
    "Step 9: create a histogram visualizing the distribution of recorded student math grades"
   ]
  },
  {
   "cell_type": "code",
   "execution_count": 11,
   "metadata": {},
   "outputs": [
    {
     "data": {
      "image/png": "[encoded data removed]",
      "text/plain": [
       "<Figure size 432x288 with 1 Axes>"
      ]
     },
     "metadata": {
      "needs_background": "light"
     },
     "output_type": "display_data"
    },
    {
     "data": {
      "text/plain": [
       "<Figure size 432x288 with 0 Axes>"
      ]
     },
     "metadata": {},
     "output_type": "display_data"
    }
   ],
   "source": [
    "sns.histplot(x='math_grade', data=students)\n",
    "plt.show()\n",
    "plt.clf()"
   ]
  },
  {
   "cell_type": "markdown",
   "metadata": {},
   "source": [
    "Step 10: create a boxplot visualizing the distribution and IQR of recorded student math grades"
   ]
  },
  {
   "cell_type": "code",
   "execution_count": 13,
   "metadata": {},
   "outputs": [
    {
     "data": {
      "image/png": "[encoded data removed]",
      "text/plain": [
       "<Figure size 432x288 with 1 Axes>"
      ]
     },
     "metadata": {
      "needs_background": "light"
     },
     "output_type": "display_data"
    },
    {
     "data": {
      "text/plain": [
       "<Figure size 432x288 with 0 Axes>"
      ]
     },
     "metadata": {},
     "output_type": "display_data"
    }
   ],
   "source": [
    "sns.boxplot(x='math_grade', data=students)\n",
    "plt.show()\n",
    "plt.clf()"
   ]
  },
  {
   "cell_type": "markdown",
   "metadata": {},
   "source": [
    "Step 11: find the most common job that the mothers of the recorded students occupy"
   ]
  },
  {
   "cell_type": "code",
   "execution_count": 15,
   "metadata": {},
   "outputs": [
    {
     "name": "stdout",
     "output_type": "stream",
     "text": [
      "other       141\n",
      "services    103\n",
      "at_home      59\n",
      "teacher      58\n",
      "health       34\n",
      "Name: Mjob, dtype: int64\n"
     ]
    },
    {
     "data": {
      "text/plain": [
       "' \\nThe most common specified job type in the options is\\n\"Services\", followed by \"at_home\" (stay-at-home), \"teacher\",\\nand \"health\" (healthcare worker).\\n'"
      ]
     },
     "execution_count": 15,
     "metadata": {},
     "output_type": "execute_result"
    }
   ],
   "source": [
    "mjobs = students.Mjob.value_counts()\n",
    "print(mjobs)\n",
    "\n",
    "''' \n",
    "The most common specified job type in the options is\n",
    "\"Services\", followed by \"at_home\" (stay-at-home), \"teacher\",\n",
    "and \"health\" (healthcare worker).\n",
    "'''"
   ]
  },
  {
   "cell_type": "markdown",
   "metadata": {},
   "source": [
    "Step 12: find the proportion of students who have mothers of each job type. What proportion of students have mothers working in healthcare?"
   ]
  },
  {
   "cell_type": "code",
   "execution_count": 17,
   "metadata": {},
   "outputs": [
    {
     "name": "stdout",
     "output_type": "stream",
     "text": [
      "other       0.356962\n",
      "services    0.260759\n",
      "at_home     0.149367\n",
      "teacher     0.146835\n",
      "health      0.086076\n",
      "Name: Mjob, dtype: float64\n"
     ]
    },
    {
     "data": {
      "text/plain": [
       "' \\nOnly 8.6% of students recorded have mothers who work in \\nhealthcare.\\n'"
      ]
     },
     "execution_count": 17,
     "metadata": {},
     "output_type": "execute_result"
    }
   ],
   "source": [
    "mjobs_normalized = students.Mjob.value_counts(normalize=True)\n",
    "print(mjobs_normalized)\n",
    "\n",
    "\"\"\" \n",
    "Only 8.6% of students recorded have mothers who work in \n",
    "healthcare.\n",
    "\"\"\""
   ]
  },
  {
   "cell_type": "markdown",
   "metadata": {},
   "source": [
    "Step 13: create a bar chart visualizing the numbers of students with mothers in each occupation type."
   ]
  },
  {
   "cell_type": "code",
   "execution_count": 18,
   "metadata": {},
   "outputs": [
    {
     "data": {
      "image/png": "[encoded data removed]",
      "text/plain": [
       "<Figure size 432x288 with 1 Axes>"
      ]
     },
     "metadata": {
      "needs_background": "light"
     },
     "output_type": "display_data"
    },
    {
     "data": {
      "text/plain": [
       "<Figure size 432x288 with 0 Axes>"
      ]
     },
     "metadata": {},
     "output_type": "display_data"
    }
   ],
   "source": [
    "sns.countplot(x='Mjob', data=students)\n",
    "plt.show()\n",
    "plt.clf()"
   ]
  },
  {
   "cell_type": "markdown",
   "metadata": {},
   "source": [
    "Step 14: produce a pie chart visualizing the numbers of students with mothers in each job type"
   ]
  },
  {
   "cell_type": "code",
   "execution_count": 19,
   "metadata": {},
   "outputs": [
    {
     "data": {
      "image/png": "[encoded data removed]",
      "text/plain": [
       "<Figure size 432x288 with 1 Axes>"
      ]
     },
     "metadata": {},
     "output_type": "display_data"
    },
    {
     "data": {
      "text/plain": [
       "<Figure size 432x288 with 0 Axes>"
      ]
     },
     "metadata": {},
     "output_type": "display_data"
    }
   ],
   "source": [
    "students.Mjob.value_counts().plot.pie()\n",
    "plt.show()\n",
    "plt.clf()"
   ]
  }
 ],
 "metadata": {
  "kernelspec": {
   "display_name": "base",
   "language": "python",
   "name": "python3"
  },
  "language_info": {
   "codemirror_mode": {
    "name": "ipython",
    "version": 3
   },
   "file_extension": ".py",
   "mimetype": "text/x-python",
   "name": "python",
   "nbconvert_exporter": "python",
   "pygments_lexer": "ipython3",
   "version": "3.9.12"
  }
 },
 "nbformat": 4,
 "nbformat_minor": 2
}
