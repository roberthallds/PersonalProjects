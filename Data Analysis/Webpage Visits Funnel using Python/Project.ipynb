{
 "cells": [
  {
   "cell_type": "markdown",
   "metadata": {},
   "source": [
    "## Webpage Visits Funnel using Pandas\n",
    "For my Codecademy professional certification in Data Science and Machine Learning Engineering\n",
    "\n",
    "Robert Hall 01/12/2024"
   ]
  },
  {
   "cell_type": "code",
   "execution_count": 2,
   "metadata": {},
   "outputs": [],
   "source": [
    "# import libraries\n",
    "import pandas as pd"
   ]
  },
  {
   "cell_type": "code",
   "execution_count": 3,
   "metadata": {},
   "outputs": [],
   "source": [
    "# read in data\n",
    "\n",
    "visits = pd.read_csv('visits.csv',\n",
    "                     parse_dates=[1])\n",
    "cart = pd.read_csv('cart.csv',\n",
    "                   parse_dates=[1])\n",
    "checkout = pd.read_csv('checkout.csv',\n",
    "                       parse_dates=[1])\n",
    "purchase = pd.read_csv('purchase.csv',\n",
    "                       parse_dates=[1])"
   ]
  },
  {
   "cell_type": "markdown",
   "metadata": {},
   "source": [
    "Step 1:\n",
    "\n",
    "\"\n",
    "Inspect the DataFrames using print and head:\n",
    "\n",
    "- *'visits'* lists all of the users who have visited the website\n",
    "- *'cart'* lists all of the users who have added a t-shirt to their cart\n",
    "- *'checkout'* lists all of the users who have started the checkout\n",
    "- *'purchase'* lists all of the users who have purchased a t-shirt"
   ]
  },
  {
   "cell_type": "code",
   "execution_count": 4,
   "metadata": {},
   "outputs": [
    {
     "name": "stdout",
     "output_type": "stream",
     "text": [
      "                                user_id          visit_time\n",
      "0  943647ef-3682-4750-a2e1-918ba6f16188 2017-04-07 15:14:00\n",
      "1  0c3a3dd0-fb64-4eac-bf84-ba069ce409f2 2017-01-26 14:24:00\n",
      "2  6e0b2d60-4027-4d9a-babd-0e7d40859fb1 2017-08-20 08:23:00\n",
      "3  6879527e-c5a6-4d14-b2da-50b85212b0ab 2017-11-04 18:15:00\n",
      "4  a84327ff-5daa-4ba1-b789-d5b4caf81e96 2017-02-27 11:25:00\n"
     ]
    }
   ],
   "source": [
    "print(visits.head())\n"
   ]
  },
  {
   "cell_type": "code",
   "execution_count": 5,
   "metadata": {},
   "outputs": [
    {
     "name": "stdout",
     "output_type": "stream",
     "text": [
      "                                user_id           cart_time\n",
      "0  2be90e7c-9cca-44e0-bcc5-124b945ff168 2017-11-07 20:45:00\n",
      "1  4397f73f-1da3-4ab3-91af-762792e25973 2017-05-27 01:35:00\n",
      "2  a9db3d4b-0a0a-4398-a55a-ebb2c7adf663 2017-03-04 10:38:00\n",
      "3  b594862a-36c5-47d5-b818-6e9512b939b3 2017-09-27 08:22:00\n",
      "4  a68a16e2-94f0-4ce8-8ce3-784af0bbb974 2017-07-26 15:48:00\n"
     ]
    }
   ],
   "source": [
    "print(cart.head())"
   ]
  },
  {
   "cell_type": "code",
   "execution_count": 6,
   "metadata": {},
   "outputs": [
    {
     "name": "stdout",
     "output_type": "stream",
     "text": [
      "                                user_id       checkout_time\n",
      "0  d33bdc47-4afa-45bc-b4e4-dbe948e34c0d 2017-06-25 09:29:00\n",
      "1  4ac186f0-9954-4fea-8a27-c081e428e34e 2017-04-07 20:11:00\n",
      "2  3c9c78a7-124a-4b77-8d2e-e1926e011e7d 2017-07-13 11:38:00\n",
      "3  89fe330a-8966-4756-8f7c-3bdbcd47279a 2017-04-20 16:15:00\n",
      "4  3ccdaf69-2d30-40de-b083-51372881aedd 2017-01-08 20:52:00\n"
     ]
    }
   ],
   "source": [
    "print(checkout.head())"
   ]
  },
  {
   "cell_type": "code",
   "execution_count": 7,
   "metadata": {},
   "outputs": [
    {
     "name": "stdout",
     "output_type": "stream",
     "text": [
      "                                user_id       purchase_time\n",
      "0  4b44ace4-2721-47a0-b24b-15fbfa2abf85 2017-05-11 04:25:00\n",
      "1  02e684ae-a448-408f-a9ff-dcb4a5c99aac 2017-09-05 08:45:00\n",
      "2  4b4bc391-749e-4b90-ab8f-4f6e3c84d6dc 2017-11-20 20:49:00\n",
      "3  a5dbb25f-3c36-4103-9030-9f7c6241cd8d 2017-01-22 15:18:00\n",
      "4  46a3186d-7f5a-4ab9-87af-84d05bfd4867 2017-06-11 11:32:00\n"
     ]
    }
   ],
   "source": [
    "print(purchase.head())"
   ]
  },
  {
   "cell_type": "markdown",
   "metadata": {},
   "source": [
    "Step 2:\n",
    "\n",
    "\"Combine visits and cart using a left merge.\""
   ]
  },
  {
   "cell_type": "code",
   "execution_count": 8,
   "metadata": {},
   "outputs": [
    {
     "name": "stdout",
     "output_type": "stream",
     "text": [
      "                                user_id          visit_time  \\\n",
      "0  943647ef-3682-4750-a2e1-918ba6f16188 2017-04-07 15:14:00   \n",
      "1  0c3a3dd0-fb64-4eac-bf84-ba069ce409f2 2017-01-26 14:24:00   \n",
      "2  6e0b2d60-4027-4d9a-babd-0e7d40859fb1 2017-08-20 08:23:00   \n",
      "3  6879527e-c5a6-4d14-b2da-50b85212b0ab 2017-11-04 18:15:00   \n",
      "4  a84327ff-5daa-4ba1-b789-d5b4caf81e96 2017-02-27 11:25:00   \n",
      "\n",
      "            cart_time  \n",
      "0                 NaT  \n",
      "1 2017-01-26 14:44:00  \n",
      "2 2017-08-20 08:31:00  \n",
      "3                 NaT  \n",
      "4                 NaT  \n"
     ]
    }
   ],
   "source": [
    "visits_cart = pd.merge(visits, cart, how='left')\n",
    "print(visits_cart.head())"
   ]
  },
  {
   "cell_type": "markdown",
   "metadata": {},
   "source": [
    "Step 3:\n",
    "\n",
    "\"How long is your merged DataFrame?\""
   ]
  },
  {
   "cell_type": "code",
   "execution_count": 9,
   "metadata": {},
   "outputs": [
    {
     "name": "stdout",
     "output_type": "stream",
     "text": [
      "2000\n"
     ]
    }
   ],
   "source": [
    "num_visits_cart = len(visits_cart)\n",
    "print(num_visits_cart)"
   ]
  },
  {
   "cell_type": "markdown",
   "metadata": {},
   "source": [
    "Step 4:\n",
    "\n",
    "\"How many of the timestamps are null for the column cart_time?\n",
    "\n",
    "What do these null rows mean?\""
   ]
  },
  {
   "cell_type": "code",
   "execution_count": 13,
   "metadata": {},
   "outputs": [
    {
     "name": "stdout",
     "output_type": "stream",
     "text": [
      "1652\n"
     ]
    },
    {
     "data": {
      "text/plain": [
       "\" \\nThe null rows indicate the number of instances that a user's \\ntime spent between visiting the site and adding items to their\\ncart was not recorded.\\n\\nThis could mean a few different things -- on the one hand, a user\\nin this category could have chosen not to buy anything from the site.\\nThis is probably the more likely answer.\\n\\nOn the other hand, a user could already have items in their cart, and\\ngo to checkout straight upon visiting the site and not adding anything\\nmore to their cart.\\n\""
      ]
     },
     "execution_count": 13,
     "metadata": {},
     "output_type": "execute_result"
    }
   ],
   "source": [
    "cart_time_null = visits_cart[visits_cart.cart_time.isnull()]\n",
    "num_cart_time_null = len(cart_time_null)\n",
    "print(num_cart_time_null)\n",
    "\n",
    "''' \n",
    "The null rows indicate the number of instances that a user's \n",
    "time spent between visiting the site and adding items to their\n",
    "cart was not recorded.\n",
    "\n",
    "This could mean a few different things -- on the one hand, a user\n",
    "in this category could have chosen not to buy anything from the site.\n",
    "This is probably the more likely answer.\n",
    "\n",
    "On the other hand, a user could already have items in their cart, and\n",
    "go to checkout straight upon visiting the site and not adding anything\n",
    "more to their cart.\n",
    "'''"
   ]
  },
  {
   "cell_type": "markdown",
   "metadata": {},
   "source": [
    "Step 5:\n",
    "\n",
    "\"What percent of users who visited Cool T-Shirts Inc. ended up not placing a t-shirt in their cart?\""
   ]
  },
  {
   "cell_type": "code",
   "execution_count": 12,
   "metadata": {},
   "outputs": [
    {
     "name": "stdout",
     "output_type": "stream",
     "text": [
      "Percent who did not place a t-shirt in their cart: 82.6%\n"
     ]
    }
   ],
   "source": [
    "percent_no_tshirt = round((num_cart_time_null/num_visits_cart) * 100, 2)\n",
    "print(\"Percent who did not place a t-shirt in their cart: {}%\".format(percent_no_tshirt))"
   ]
  },
  {
   "cell_type": "markdown",
   "metadata": {},
   "source": [
    "Step 6:\n",
    "\n",
    "\"Repeat the left merge for cart and checkout and count null values. What percentage of users put items in their cart, but did not proceed to checkout?\""
   ]
  },
  {
   "cell_type": "code",
   "execution_count": 15,
   "metadata": {},
   "outputs": [
    {
     "name": "stdout",
     "output_type": "stream",
     "text": [
      "Percent of customers who did not checkout \n",
      " items they put in their cart: 25.31%\n"
     ]
    }
   ],
   "source": [
    "cart_checkout = pd.merge(cart, checkout, how='left')\n",
    "num_cart_checkout = len(cart_checkout)\n",
    "no_checkout = cart_checkout[cart_checkout.checkout_time.isnull()]\n",
    "num_no_checkout = len(no_checkout)\n",
    "percent_no_checkout = round((num_no_checkout / num_cart_checkout) * 100, 2)\n",
    "print(\"Percent of customers who did not checkout \\n items they put in their cart: {}%\".format(percent_no_checkout))"
   ]
  },
  {
   "cell_type": "markdown",
   "metadata": {},
   "source": [
    "Step 7: \n",
    "\n",
    "\"Merge all four steps of the funnel, in order, using a series of left merges. Save the results to the variable all_data.\n",
    "\n",
    "Examine the result using print and head.\""
   ]
  },
  {
   "cell_type": "code",
   "execution_count": 16,
   "metadata": {},
   "outputs": [
    {
     "name": "stdout",
     "output_type": "stream",
     "text": [
      "                                user_id          visit_time  \\\n",
      "0  943647ef-3682-4750-a2e1-918ba6f16188 2017-04-07 15:14:00   \n",
      "1  0c3a3dd0-fb64-4eac-bf84-ba069ce409f2 2017-01-26 14:24:00   \n",
      "2  6e0b2d60-4027-4d9a-babd-0e7d40859fb1 2017-08-20 08:23:00   \n",
      "3  6879527e-c5a6-4d14-b2da-50b85212b0ab 2017-11-04 18:15:00   \n",
      "4  a84327ff-5daa-4ba1-b789-d5b4caf81e96 2017-02-27 11:25:00   \n",
      "\n",
      "            cart_time       checkout_time       purchase_time  \n",
      "0                 NaT                 NaT                 NaT  \n",
      "1 2017-01-26 14:44:00 2017-01-26 14:54:00 2017-01-26 15:08:00  \n",
      "2 2017-08-20 08:31:00                 NaT                 NaT  \n",
      "3                 NaT                 NaT                 NaT  \n",
      "4                 NaT                 NaT                 NaT  \n"
     ]
    }
   ],
   "source": [
    "all_data = visits\\\n",
    ".merge(cart, how='left')\\\n",
    ".merge(checkout, how='left')\\\n",
    ".merge(purchase, how='left')\n",
    "total_users = len(all_data)\n",
    "print(all_data.head())"
   ]
  },
  {
   "cell_type": "markdown",
   "metadata": {},
   "source": [
    "Step 8:\n",
    "\n",
    "\"What percentage of users proceeded to checkout, but did not purchase a t-shirt?\""
   ]
  },
  {
   "cell_type": "code",
   "execution_count": 18,
   "metadata": {},
   "outputs": [
    {
     "name": "stdout",
     "output_type": "stream",
     "text": [
      "Percent of users who proceeded \n",
      " to checkout but bought no shirt: 4.26%\n"
     ]
    }
   ],
   "source": [
    "bought_no_tshirt = all_data[all_data.checkout_time.notnull() & all_data.purchase_time.isnull()]\n",
    "num_bought_no_tshirt = len(bought_no_tshirt)\n",
    "percent_bought_no_tshirt = round((num_bought_no_tshirt/total_users) * 100, 2)\n",
    "print(\"Percent of users who proceeded \\n to checkout but bought no shirt: {}%\".format(percent_bought_no_tshirt))"
   ]
  },
  {
   "cell_type": "markdown",
   "metadata": {},
   "source": [
    "Step 10-11: \n",
    "\n",
    "\"Using the giant merged DataFrame all_data that you created, let’s calculate the average time from initial visit to final purchase. Add a column that is the difference between purchase_time and visit_time.\n",
    "\n",
    "\n",
    "Examine the results by printing the new column to the screen.\""
   ]
  },
  {
   "cell_type": "code",
   "execution_count": 19,
   "metadata": {},
   "outputs": [
    {
     "name": "stdout",
     "output_type": "stream",
     "text": [
      "0               NaT\n",
      "1   0 days 00:44:00\n",
      "2               NaT\n",
      "3               NaT\n",
      "4               NaT\n",
      "Name: visit_to_purchase_time, dtype: timedelta64[ns]\n"
     ]
    }
   ],
   "source": [
    "all_data['visit_to_purchase_time'] = all_data.purchase_time - all_data.visit_time\n",
    "print(all_data.visit_to_purchase_time.head())"
   ]
  },
  {
   "cell_type": "markdown",
   "metadata": {},
   "source": [
    "Step 12:\n",
    "\n",
    "\"Calculate the average time to purchase by applying the .mean() function to your new column.\""
   ]
  },
  {
   "cell_type": "code",
   "execution_count": 20,
   "metadata": {},
   "outputs": [
    {
     "name": "stdout",
     "output_type": "stream",
     "text": [
      "Average time from visit to purchase: 0 days 00:43:53.360160965\n"
     ]
    }
   ],
   "source": [
    "avg_purchase_time = all_data.visit_to_purchase_time.mean()\n",
    "print(\"Average time from visit to purchase: {}\".format(avg_purchase_time))"
   ]
  }
 ],
 "metadata": {
  "kernelspec": {
   "display_name": "base",
   "language": "python",
   "name": "python3"
  },
  "language_info": {
   "codemirror_mode": {
    "name": "ipython",
    "version": 3
   },
   "file_extension": ".py",
   "mimetype": "text/x-python",
   "name": "python",
   "nbconvert_exporter": "python",
   "pygments_lexer": "ipython3",
   "version": "3.9.12"
  }
 },
 "nbformat": 4,
 "nbformat_minor": 2
}
