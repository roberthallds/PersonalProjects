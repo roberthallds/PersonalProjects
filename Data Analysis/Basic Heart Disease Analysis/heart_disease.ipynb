{
 "cells": [
  {
   "cell_type": "markdown",
   "metadata": {},
   "source": [
    "## Utilizing Hypothesis Testing to Gain Insights from (fake) Patient Data on the Relationships between Heart Disease, Cholesterol, and Fasting Blood Sugar (FSB).\n",
    "\n",
    "Robert Hall (06/29/2024)\n",
    "\n",
    "Completed for my Codecademy \"Data Scientist: Machine Learning Specialist\" Career Path Certification."
   ]
  },
  {
   "cell_type": "markdown",
   "metadata": {},
   "source": [
    "#### Preparatory loading-in of data and necessary libraries."
   ]
  },
  {
   "cell_type": "code",
   "execution_count": 1,
   "metadata": {},
   "outputs": [],
   "source": [
    "import numpy as np \n",
    "import pandas as pd\n",
    "from scipy.stats import ttest_1samp, binom_test"
   ]
  },
  {
   "cell_type": "code",
   "execution_count": 2,
   "metadata": {},
   "outputs": [],
   "source": [
    "heart = pd.read_csv('heart.csv')\n",
    "yes_hd = heart[heart.heart_disease == 'presence']\n",
    "no_hd = heart[heart.heart_disease == 'absence']"
   ]
  },
  {
   "cell_type": "markdown",
   "metadata": {},
   "source": [
    "#### Isolate the feature representing cholesterol levels in patients into a single variable 'chol_hd'."
   ]
  },
  {
   "cell_type": "code",
   "execution_count": 3,
   "metadata": {},
   "outputs": [
    {
     "name": "stdout",
     "output_type": "stream",
     "text": [
      "1    286.0\n",
      "2    229.0\n",
      "6    268.0\n",
      "8    254.0\n",
      "9    203.0\n",
      "Name: chol, dtype: float64\n"
     ]
    }
   ],
   "source": [
    "chol_hd = yes_hd['chol']\n",
    "print(chol_hd.head())"
   ]
  },
  {
   "cell_type": "markdown",
   "metadata": {},
   "source": [
    "#### Q: Is the mean cholesterol level in the sample higher than the general threshold of \"high cholesterol\" of 240 mg/dl?"
   ]
  },
  {
   "cell_type": "code",
   "execution_count": 6,
   "metadata": {},
   "outputs": [
    {
     "name": "stdout",
     "output_type": "stream",
     "text": [
      "Mean Sample Cholesterol Level: 251.47\n"
     ]
    }
   ],
   "source": [
    "mean_chol = round(chol_hd.mean(), 2)\n",
    "print(f\"Mean Sample Cholesterol Level: {mean_chol}\")"
   ]
  },
  {
   "cell_type": "markdown",
   "metadata": {},
   "source": [
    "The mean cholesterol level for sampled patients is approx. 251 mg/dl, which would be considerd high."
   ]
  },
  {
   "cell_type": "markdown",
   "metadata": {},
   "source": [
    "#### Q: Do those with heart disease, on average, have significantly high levels of cholesterol (chol > 240 mg/dl)?"
   ]
  },
  {
   "cell_type": "markdown",
   "metadata": {},
   "source": [
    "* Null Hypothesis: \"Patients with heart disease have an average cholesterol level equal to 240 mg/dl\".\n",
    "* Alternative Hypothesis: \"Patients with heart disease have an average cholesterol level greater than 240 mg/dl\"\n",
    "* Significance Threshold: a = 0.05"
   ]
  },
  {
   "cell_type": "code",
   "execution_count": 11,
   "metadata": {},
   "outputs": [
    {
     "name": "stdout",
     "output_type": "stream",
     "text": [
      "p-value: 0.0035\n"
     ]
    }
   ],
   "source": [
    "ttest, pval = ttest_1samp(chol_hd, 240)\n",
    "print(f\"p-value: {round(pval/2, 4)}\") # divide by two since 'pval' returns the p-value of a two-sided t-test."
   ]
  },
  {
   "cell_type": "markdown",
   "metadata": {},
   "source": [
    "We reject the null hypothesis and confirm that individuals with heart disease do, on average, have significantly high cholesterol levels (p = 0.0035)."
   ]
  },
  {
   "cell_type": "markdown",
   "metadata": {},
   "source": [
    "#### Q: Do patients who do NOT have heart disease likewise, on average, have significantly high levels of cholesterol (chol > 240 mg/dl)?"
   ]
  },
  {
   "cell_type": "markdown",
   "metadata": {},
   "source": [
    "* Null Hypothesis: \"Patients without heart disease have an average cholesterol level equal to 240 mg/dl\".\n",
    "* Alternative Hypothesis: \"Patients without heart disease have an average cholesterol level greater than 240 mg/dl\"\n",
    "* Significance Threshold: a = 0.05"
   ]
  },
  {
   "cell_type": "code",
   "execution_count": 10,
   "metadata": {},
   "outputs": [
    {
     "name": "stdout",
     "output_type": "stream",
     "text": [
      "p-value: 0.264\n"
     ]
    }
   ],
   "source": [
    "chol_nhd = no_hd['chol'] # isolated feature measuring cholesterol levels in (fake and anonymous) patients\n",
    "ttest, pval = ttest_1samp(chol_nhd, 240) \n",
    "print(f\"p-value: {round(pval/2, 4)}\") # divide by two since 'pval' returns the p-value of a two-sided t-test."
   ]
  },
  {
   "cell_type": "markdown",
   "metadata": {},
   "source": [
    "We reject the alternative hypothesis and confirm that individuals without heart disease do not have significantly high cholesterol levels on average (p = 0.264)."
   ]
  },
  {
   "cell_type": "markdown",
   "metadata": {},
   "source": [
    "#### Q: How many patients in the data set have a fasting blood sugar (FBS) greater than 120 mg/dl?"
   ]
  },
  {
   "cell_type": "code",
   "execution_count": 25,
   "metadata": {},
   "outputs": [
    {
     "name": "stdout",
     "output_type": "stream",
     "text": [
      " n = 303\n"
     ]
    }
   ],
   "source": [
    "# calculate total number of patients (instances) in the dataset\n",
    "num_patients = len(heart)\n",
    "print(f\" n = {num_patients}\")"
   ]
  },
  {
   "cell_type": "code",
   "execution_count": 24,
   "metadata": {},
   "outputs": [
    {
     "name": "stdout",
     "output_type": "stream",
     "text": [
      "Number of patients in dataset with FBS below threshold: 45\n"
     ]
    }
   ],
   "source": [
    "# calculate the number of patients in the dataset that have FBS < 120 mg/dl\n",
    "num_highfbs_patients = int(np.sum(heart.fbs))\n",
    "print(f\"Number of patients in dataset with FBS below threshold: {num_highfbs_patients}\")"
   ]
  },
  {
   "cell_type": "markdown",
   "metadata": {},
   "source": [
    "There are 45 patients, out of the 303 in the sample, who have a fasting blood sugar below 120 mg/dl."
   ]
  },
  {
   "cell_type": "markdown",
   "metadata": {},
   "source": [
    "#### Q: Approximately 8% of the U.S. population has Diabetes. Does the sample come from a population where the rate of FBS > 120 mg/dl equal 8%?"
   ]
  },
  {
   "cell_type": "code",
   "execution_count": 21,
   "metadata": {},
   "outputs": [
    {
     "name": "stdout",
     "output_type": "stream",
     "text": [
      "Eight percent of 303 participants: 24\n"
     ]
    }
   ],
   "source": [
    "# determine 8% of the sample size (n = 303)\n",
    "eight_pct_sample = int(np.floor(0.08 * num_patients))\n",
    "print(f\"Eight percent of {num_patients} participants: {eight_pct_sample}\") # 24 is just over half of the number of people (45) where fbs > 120 in the sample"
   ]
  },
  {
   "cell_type": "code",
   "execution_count": 22,
   "metadata": {},
   "outputs": [
    {
     "name": "stdout",
     "output_type": "stream",
     "text": [
      "p-value: 4.7e-05\n"
     ]
    }
   ],
   "source": [
    "pval = binom_test(num_highfbs_patients, num_patients, 0.08, alternative='greater')\n",
    "print(f\"p-value: {round(pval, 6)}\")"
   ]
  },
  {
   "cell_type": "markdown",
   "metadata": {},
   "source": [
    "The p-value (p = ~0.000047) is comfortably below the significance threshold of a = 0.05, which indicates that this sample includes more diabetes patients than the general population, and thus the sample is likely to have come from an area with a higher proportion of diabetes patients than the national average."
   ]
  }
 ],
 "metadata": {
  "kernelspec": {
   "display_name": "base",
   "language": "python",
   "name": "python3"
  },
  "language_info": {
   "codemirror_mode": {
    "name": "ipython",
    "version": 3
   },
   "file_extension": ".py",
   "mimetype": "text/x-python",
   "name": "python",
   "nbconvert_exporter": "python",
   "pygments_lexer": "ipython3",
   "version": "3.9.12"
  }
 },
 "nbformat": 4,
 "nbformat_minor": 2
}
