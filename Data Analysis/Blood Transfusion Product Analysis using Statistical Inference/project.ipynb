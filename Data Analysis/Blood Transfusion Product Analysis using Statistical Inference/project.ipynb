{
 "cells": [
  {
   "cell_type": "markdown",
   "metadata": {},
   "source": [
    "## Analyzing Distinctions in Success of Blood Transfusion Products using Inferential Statistics Techniques\n",
    "\n",
    "A project for my Codecademy-based Data Scientist Certification, for Machine Learning specialists.\n",
    "\n",
    "Robert Hall\n",
    "\n",
    "08/22/2024"
   ]
  },
  {
   "cell_type": "markdown",
   "metadata": {},
   "source": [
    "##### Product and Scenario Rundown\n",
    "\n",
    "Analysis is for a fictional company named *Familiar*, a blood transfusion product manufacturer which provides two different products; the 'artery' pack, and the 'vein' pack. The company needs to understand the efficacy and relative success of the two products. \n",
    "\n",
    "The following questions will be guiding the project:\n",
    "\n",
    "* What are the average participant lifespans for each product?\n",
    "* Is the average lifespan of vein pack subscribers significantly different from the [hypothetical] average life expectancy of 73 years? \n",
    "* Is the average lifespan of artery pack subscribers significantly different from the [hypothetical] average life expectancy of 73 years? \n",
    "* Is the average lifespan of vein pack patients significantly different to average lifespan for artery pack patients?\n",
    "* Is there an association between the product that a given patient uses and their iron level?"
   ]
  },
  {
   "cell_type": "code",
   "execution_count": 1,
   "metadata": {},
   "outputs": [],
   "source": [
    "import numpy as np\n",
    "import pandas as pd\n",
    "from scipy.stats import ttest_1samp, ttest_ind, chi2_contingency"
   ]
  },
  {
   "cell_type": "code",
   "execution_count": 5,
   "metadata": {},
   "outputs": [
    {
     "name": "stdout",
     "output_type": "stream",
     "text": [
      "     pack   lifespan\n",
      "0    vein  76.255090\n",
      "1  artery  76.404504\n",
      "2  artery  75.952442\n",
      "3  artery  76.923082\n",
      "4  artery  73.771212\n"
     ]
    }
   ],
   "source": [
    "lifespans = pd.read_csv('lifespan.csv')\n",
    "print(lifespans.head())"
   ]
  },
  {
   "cell_type": "code",
   "execution_count": 6,
   "metadata": {},
   "outputs": [
    {
     "name": "stdout",
     "output_type": "stream",
     "text": [
      "     pack    iron\n",
      "0    vein     low\n",
      "1  artery  normal\n",
      "2  artery  normal\n",
      "3  artery  normal\n",
      "4  artery    high\n"
     ]
    }
   ],
   "source": [
    "iron = pd.read_csv('iron.csv')\n",
    "print(iron.head())"
   ]
  },
  {
   "cell_type": "markdown",
   "metadata": {},
   "source": [
    "#### What are the average participant lifespans for each product?\n"
   ]
  },
  {
   "cell_type": "code",
   "execution_count": 18,
   "metadata": {},
   "outputs": [
    {
     "name": "stdout",
     "output_type": "stream",
     "text": [
      "mean lifespan for Vein:  76.17 years\n",
      "mean lifespan for Artery:  74.87 years\n"
     ]
    }
   ],
   "source": [
    "# create dataframe with only lifespans from vein pack patients\n",
    "vein_pack_lifespans = lifespans[lifespans['pack'] == 'vein']['lifespan']\n",
    "\n",
    "# create dataframe with only lifespans of artery pack patients\n",
    "artery_pack_lifespans = lifespans[lifespans['pack'] == 'artery']['lifespan']\n",
    "\n",
    "# means for each group\n",
    "vein_lifespan_mean = np.round(np.mean(vein_pack_lifespans), 2)\n",
    "artery_lifespan_mean = np.round(np.mean(artery_pack_lifespans), 2)\n",
    "\n",
    "# print mean lifespan for vein pack patients\n",
    "print(f\"mean lifespan for Vein:  {vein_lifespan_mean} years\")\n",
    "\n",
    "# print mean lifespan for artery pack patients\n",
    "print(f\"mean lifespan for Artery:  {artery_lifespan_mean} years\")"
   ]
  },
  {
   "cell_type": "markdown",
   "metadata": {},
   "source": [
    "#### Is the average lifespan of vein pack subscribers significantly different from the [hypothetical] average life expectancy of 73 years? "
   ]
  },
  {
   "cell_type": "code",
   "execution_count": 16,
   "metadata": {},
   "outputs": [
    {
     "name": "stdout",
     "output_type": "stream",
     "text": [
      "average lifespan:            73 years\n",
      "vein pack average lifespan:  76.17 years\n",
      "p-value:  1e-06\n",
      "significant difference from average life expectancy.\n"
     ]
    }
   ],
   "source": [
    "sig = 0.05 # significance threshold\n",
    "\n",
    "print(f\"average lifespan:            73 years\")\n",
    "print(f\"vein pack average lifespan:  {np.round(np.mean(vein_pack_lifespans), 2)} years\")\n",
    "\n",
    "ttest, pval = ttest_1samp(vein_pack_lifespans, 73) # one-sample t-test\n",
    "\n",
    "if pval < sig:\n",
    "  print(\"p-value: \", round(pval, 6))\n",
    "  print(\"significant difference from average life expectancy.\")\n",
    "elif pval >= sig:\n",
    "  print(\"p-value: \", round(pval, 6))\n",
    "  print(\"no significant difference from average life expectancy.\")"
   ]
  },
  {
   "cell_type": "markdown",
   "metadata": {},
   "source": [
    "#### Is the average lifespan of artery pack subscribers significantly different from the [hypothetical] average life expectancy of 73 years?"
   ]
  },
  {
   "cell_type": "code",
   "execution_count": 14,
   "metadata": {},
   "outputs": [
    {
     "name": "stdout",
     "output_type": "stream",
     "text": [
      "average lifespan:               73 years\n",
      "artery pack average life span:  74.87 years\n",
      "p-value:  0.001241\n",
      "significant difference from average life expectancy.\n"
     ]
    }
   ],
   "source": [
    "sig = 0.05 # significance threshold\n",
    "\n",
    "print(f\"average lifespan:               73 years\")\n",
    "print(f\"artery pack average life span:  {np.round(np.mean(artery_pack_lifespans), 2)} years\")\n",
    "\n",
    "ttest, pval = ttest_1samp(artery_pack_lifespans, 73) # one-sample t-test\n",
    "\n",
    "if pval < sig:\n",
    "  print(\"p-value: \", round(pval, 6))\n",
    "  print(\"significant difference from average life expectancy.\")\n",
    "elif pval >= sig:\n",
    "  print(\"p-value: \", round(pval, 6))\n",
    "  print(\"no significant difference from average life expectancy.\")"
   ]
  },
  {
   "cell_type": "markdown",
   "metadata": {},
   "source": [
    "#### Is the average lifespan of vein pack patients significantly different to average lifespan for artery pack patients?"
   ]
  },
  {
   "cell_type": "code",
   "execution_count": 20,
   "metadata": {},
   "outputs": [
    {
     "name": "stdout",
     "output_type": "stream",
     "text": [
      "average lifespan for artery pack group: 74.87 years\n",
      "average lifespan for vein pack group: 76.17 years\n",
      "p-value:  0.055889\n",
      "no significant difference in life expectancy.\n"
     ]
    }
   ],
   "source": [
    "sig = 0.05 # significance threshold\n",
    "\n",
    "print(f'average lifespan for artery pack group: {artery_lifespan_mean} years')\n",
    "print(f'average lifespan for vein pack group: {vein_lifespan_mean} years')\n",
    "\n",
    "ttest, pval = ttest_ind(artery_pack_lifespans, vein_pack_lifespans)\n",
    "if pval < sig:\n",
    "  print(\"p-value: \", round(pval, 6))\n",
    "  print(\"significant difference in life expectancy.\")\n",
    "elif pval >= sig:\n",
    "  print(\"p-value: \", round(pval, 6))\n",
    "  print(\"no significant difference in life expectancy.\")"
   ]
  },
  {
   "cell_type": "markdown",
   "metadata": {},
   "source": [
    "#### Is there an association between the product that a given patient uses and their iron level?"
   ]
  },
  {
   "cell_type": "code",
   "execution_count": 17,
   "metadata": {},
   "outputs": [
    {
     "name": "stdout",
     "output_type": "stream",
     "text": [
      "iron    high  low  normal\n",
      "pack                     \n",
      "artery    87   29      29\n",
      "vein      20  140      40 \n",
      "\n",
      "p-value:  9.400000000000001e-25\n",
      "significant association.\n"
     ]
    }
   ],
   "source": [
    "sig = 0.05 # significance threshold\n",
    "contingency = pd.crosstab(iron.pack, iron.iron) # contingency table for each product group\n",
    "\n",
    "print(contingency, '\\n') # relative frequencies of iron thresholds per product group\n",
    "\n",
    "chi2, pval, dof, expected = chi2_contingency(contingency) # chi2 test of association\n",
    "\n",
    "if pval < sig:\n",
    "  print(\"p-value: \", round(pval, 26))\n",
    "  print(\"significant association.\")\n",
    "elif pval >= sig:\n",
    "  print(\"p-value: \", round(pval, 26))\n",
    "  print(\"no significant association.\")"
   ]
  },
  {
   "cell_type": "markdown",
   "metadata": {},
   "source": [
    "#### Summary Analysis and Key Takeaways"
   ]
  },
  {
   "cell_type": "markdown",
   "metadata": {},
   "source": [
    "* Those who use the vein pack have an average life expectancy of 76.17 years. Those who use the artery pack have an average life expectancy of 74.87 years.\n",
    "\n",
    "* Both products have a statistically significant average lifespan above the hypothetical mean of 73 years.\n",
    "\n",
    "* There is no statistically significant difference between the two products in terms of lifespan.\n",
    "\n",
    "* There is a statistically significant association between the product groups and their iron levels. Patients using the vein pack have significantly lower levels of iron than do those using the artery pack. "
   ]
  }
 ],
 "metadata": {
  "kernelspec": {
   "display_name": "base",
   "language": "python",
   "name": "python3"
  },
  "language_info": {
   "codemirror_mode": {
    "name": "ipython",
    "version": 3
   },
   "file_extension": ".py",
   "mimetype": "text/x-python",
   "name": "python",
   "nbconvert_exporter": "python",
   "pygments_lexer": "ipython3",
   "version": "3.12.4"
  }
 },
 "nbformat": 4,
 "nbformat_minor": 2
}
